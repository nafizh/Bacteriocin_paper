{
 "cells": [
  {
   "cell_type": "markdown",
   "metadata": {},
   "source": [
    "## Import libraries"
   ]
  },
  {
   "cell_type": "code",
   "execution_count": 1,
   "metadata": {
    "collapsed": false
   },
   "outputs": [
    {
     "name": "stderr",
     "output_type": "stream",
     "text": [
      "/home/nafizh/anaconda3/lib/python3.6/site-packages/Bio/SearchIO/__init__.py:211: BiopythonExperimentalWarning: Bio.SearchIO is an experimental submodule which may undergo significant changes prior to its future official release.\n",
      "  BiopythonExperimentalWarning)\n",
      "/home/nafizh/anaconda3/lib/python3.6/site-packages/h5py/__init__.py:34: FutureWarning: Conversion of the second argument of issubdtype from `float` to `np.floating` is deprecated. In future, it will be treated as `np.float64 == np.dtype(float).type`.\n",
      "  from ._conv import register_converters as _register_converters\n",
      "Using TensorFlow backend.\n",
      "/home/nafizh/anaconda3/lib/python3.6/importlib/_bootstrap.py:205: RuntimeWarning: compiletime version 3.5 of module 'tensorflow.python.framework.fast_tensor_util' does not match runtime version 3.6\n",
      "  return f(*args, **kwds)\n"
     ]
    }
   ],
   "source": [
    "import os\n",
    "from Bio import SearchIO\n",
    "from Bio.SearchIO import HmmerIO\n",
    "from Bio import SeqIO\n",
    "%matplotlib inline\n",
    "import matplotlib.pyplot as plt\n",
    "plt.rcParams['figure.figsize'] = (10.0, 7.0)\n",
    "\n",
    "import math\n",
    "import numpy as np\n",
    "#seed = 1337\n",
    "seed = 42\n",
    "np.random.seed(seed)\n",
    "# THEANO_FLAGS=\"dnn.conv.algo_bwd_filter=deterministic, dnn.conv.algo_bwd_data=deterministic\"\n",
    "\n",
    "# %matplotlib inline\n",
    "# import matplotlib.pyplot as plt\n",
    "# plt.rcParams['figure.figsize'] = (10.0, 7.0)\n",
    "\n",
    "#import numpy as np\n",
    "#import matplotlib.pyplot as plt\n",
    "import os\n",
    "import pandas as pd\n",
    "from collections import defaultdict\n",
    "from Bio import SeqIO\n",
    "from nltk import bigrams\n",
    "from nltk import trigrams\n",
    "import gensim, logging\n",
    "logging.basicConfig(format='%(asctime)s : %(levelname)s : %(message)s', level=logging.INFO)\n",
    "\n",
    "# import theano\n",
    "# theano.config.device = 'gpu'\n",
    "# theano.config.floatX = 'float32'\n",
    "from keras.layers import Dropout\n",
    "from keras.layers import Input, Dense, Lambda, LSTM, RepeatVector, Conv1D, MaxPooling1D, UpSampling1D\n",
    "from keras.models import Model\n",
    "from keras import backend as K\n",
    "from keras import objectives\n",
    "from keras.datasets import mnist\n",
    "from keras import regularizers\n",
    "from keras.layers import GaussianNoise\n",
    "from keras.layers import Activation\n",
    "from keras.callbacks import LearningRateScheduler, EarlyStopping\n",
    "\n",
    "from keras.layers.normalization import BatchNormalization\n",
    "from keras.models import Sequential\n",
    "from keras.layers import Dense\n",
    "from keras.wrappers.scikit_learn import KerasClassifier\n",
    "from keras.utils import np_utils\n",
    "from keras import regularizers\n",
    "#from keras.regularizers import l2, activity_l2, l1, activity_l1\n",
    "from keras.optimizers import Adam, SGD\n",
    "\n",
    "from keras.wrappers.scikit_learn import KerasClassifier\n",
    "from sklearn.decomposition import TruncatedSVD\n",
    "from sklearn.manifold import TSNE\n",
    "from sklearn.preprocessing import normalize\n",
    "from sklearn.utils import shuffle\n",
    "from sklearn.model_selection import train_test_split\n",
    "from sklearn import metrics\n",
    "from sklearn.model_selection import KFold\n",
    "from sklearn.preprocessing import LabelEncoder\n",
    "from sklearn.pipeline import Pipeline\n",
    "from sklearn.metrics import precision_score\n",
    "from sklearn.metrics import recall_score\n",
    "from sklearn.metrics import f1_score\n",
    "from sklearn import preprocessing\n",
    "from sklearn.metrics import roc_curve, auc\n",
    "from sklearn.linear_model import LogisticRegression\n",
    "from sklearn.ensemble import RandomForestClassifier\n",
    "from sklearn.svm import SVC\n",
    "from sklearn.tree import DecisionTreeClassifier\n",
    "from sklearn.model_selection import StratifiedKFold\n",
    "from sklearn.model_selection import GridSearchCV\n",
    "from sklearn.model_selection import cross_val_score\n",
    "\n",
    "\n",
    "import dask.dataframe as dd\n",
    "from sklearn.metrics import precision_recall_curve\n",
    "from sklearn.metrics import average_precision_score\n",
    "from scipy import interp\n",
    "from itertools import cycle\n",
    "from scipy import stats\n",
    "\n",
    "import subprocess\n",
    "from Bio.Blast import NCBIXML\n",
    "from collections import defaultdict"
   ]
  },
  {
   "cell_type": "markdown",
   "metadata": {},
   "source": [
    "## Blast results"
   ]
  },
  {
   "cell_type": "code",
   "execution_count": 3,
   "metadata": {
    "collapsed": false
   },
   "outputs": [],
   "source": [
    "decoy_train = np.random.random((692, 3))\n",
    "y = np.vstack((np.ones((346, 1)), \n",
    "                    np.zeros((346,1))))"
   ]
  },
  {
   "cell_type": "markdown",
   "metadata": {
    "heading_collapsed": true
   },
   "source": [
    "## e-value"
   ]
  },
  {
   "cell_type": "code",
   "execution_count": 73,
   "metadata": {
    "collapsed": false,
    "hidden": true,
    "scrolled": true
   },
   "outputs": [
    {
     "name": "stdout",
     "output_type": "stream",
     "text": [
      "Finished Iter 0\n",
      "Finished Iter 1\n",
      "Finished Iter 2\n",
      "Finished Iter 3\n",
      "Finished Iter 4\n",
      "Finished Iter 5\n",
      "Finished Iter 6\n",
      "Finished Iter 7\n",
      "Finished Iter 8\n",
      "Finished Iter 9\n"
     ]
    }
   ],
   "source": [
    "random_seed_list = [3,13,23,33,43,53,63,73,83,93]\n",
    "precision_scores_mean_list = []\n",
    "recall_scores_mean_list = []\n",
    "f1_scores_mean_list = []\n",
    "\n",
    "for rand_seed_num, rand_seed_i in enumerate(random_seed_list):\n",
    "    precision_l = []\n",
    "    recall_l = []\n",
    "    f1_l = []\n",
    "    cv_outer = StratifiedKFold(n_splits = 10, shuffle = True, random_state = random_seed_list[rand_seed_num])\n",
    "    for fold_num, (train_idx, test_idx) in enumerate(cv_outer.split(decoy_train, y)):\n",
    "        with open('second_bacteriocin_training_set', 'r') as in_handle:\n",
    "            out_training_handle = open('fold_num_%s_train_set.fa' % str(fold_num), 'w')\n",
    "            out_test_handle = open('fold_num_%s_test_set.fa' % str(fold_num), 'w')\n",
    "\n",
    "            for index, record in enumerate(SeqIO.parse(in_handle, 'fasta')):\n",
    "                if index in train_idx and index <= 345:\n",
    "                    out_training_handle.write('>%s\\n%s\\n' % (record.description, record.seq))\n",
    "                if index in test_idx:\n",
    "                    out_test_handle.write('>%s\\n%s\\n' % (record.description, record.seq))\n",
    "            out_training_handle.close()\n",
    "            out_test_handle.close()\n",
    "            make_blastdb_command = ['makeblastdb', '-in', 'fold_num_%s_train_set.fa' % str(fold_num),  \n",
    "                                    '-dbtype', 'prot', '-out', 'fold_num_%s_train_set_db' % str(fold_num)]\n",
    "            proc = subprocess.call(make_blastdb_command)\n",
    "            if proc != 0:\n",
    "                print (\"Error in make blast %s\" % str(fold_num))\n",
    "\n",
    "            subprocess.check_call(make_blastdb_command)\n",
    "\n",
    "            blast_cmd = ['blastp', '-db', 'fold_num_%s_train_set_db' % str(fold_num), '-query', \n",
    "                         'fold_num_%s_test_set.fa' % str(fold_num), '-out', 'fold_num_%s_result.xml' % str(fold_num),\n",
    "                         '-outfmt', '5', '-num_threads', '7']\n",
    "            proc = subprocess.call(blast_cmd)\n",
    "            if proc != 0:\n",
    "                print (\"Error in blast %s\" % str(fold_num))\n",
    "\n",
    "            result_handle = open(\"fold_num_%s_result.xml\" % str(fold_num), 'r')\n",
    "            blast_records = NCBIXML.parse(result_handle)\n",
    "            scores = []\n",
    "            # blast_records = number of sequences in query\n",
    "            for i, blast_record in enumerate(blast_records):\n",
    "                flag = 0\n",
    "                # alignments = sequences in database\n",
    "                for j, alignment in enumerate(blast_record.alignments): \n",
    "                    for hsp in alignment.hsps:\n",
    "                        if hsp.expect < 0.001: # less than 10^-3\n",
    "                            scores.append(1)\n",
    "                            flag = 1\n",
    "                            break\n",
    "                    if flag == 1:\n",
    "                        break\n",
    "                if flag == 0:\n",
    "                    scores.append(0)\n",
    "\n",
    "            precision_s = precision_score(y[test_idx], scores)\n",
    "            recall_s = recall_score(y[test_idx], scores)\n",
    "            f1_s = f1_score(y[test_idx], scores)\n",
    "\n",
    "            precision_l.append(precision_s)\n",
    "            recall_l.append(recall_s)\n",
    "            f1_l.append(f1_s)\n",
    "            \n",
    "    print(\"Finished Iter %s\" % str(rand_seed_num))\n",
    "    precision_scores_mean_list.append(np.mean(precision_l))\n",
    "    recall_scores_mean_list.append(np.mean(recall_l))\n",
    "    f1_scores_mean_list.append(np.mean(f1_l))\n",
    "    \n",
    "    rem_files = ['rm', 'fold_num_*']\n",
    "    subprocess.call(rem_files)\n",
    "    \n",
    "    \n",
    "                \n",
    "#     print (train_idx)\n",
    "#     print (test_idx)\n",
    "#    break"
   ]
  },
  {
   "cell_type": "code",
   "execution_count": 75,
   "metadata": {
    "collapsed": false,
    "hidden": true
   },
   "outputs": [
    {
     "name": "stdout",
     "output_type": "stream",
     "text": [
      "0.996592341358 4.82384902929e-05\n",
      "0.846453781513 0.00138227844128\n",
      "0.914424892143 0.000839305093982\n",
      "[0.99677419354838714, 0.99655172413793092, 0.9966666666666667, 0.99642857142857155, 0.99655172413793092, 0.99642857142857155, 0.99687499999999996, 0.99642857142857155, 0.9966666666666667, 0.99655172413793092]\n",
      "[0.85546218487394954, 0.84663865546218486, 0.84932773109243698, 0.84680672268907564, 0.84428571428571431, 0.84672268907563031, 0.84672268907563009, 0.84672268907563031, 0.8380672268907563, 0.84378151260504208]\n",
      "[0.91939339053782165, 0.91513151868317644, 0.91652738364313302, 0.91507621953814444, 0.91299387714409386, 0.91469797725545199, 0.91410501997057525, 0.91476358514691114, 0.90928687021253629, 0.91227307930287815]\n"
     ]
    }
   ],
   "source": [
    "\"\"\"\n",
    "Result for 10 random seeds\n",
    "\"\"\"\n",
    "print (np.mean(precision_scores_mean_list), stats.sem(precision_scores_mean_list))\n",
    "print (np.mean(recall_scores_mean_list), stats.sem(recall_scores_mean_list))\n",
    "print (np.mean(f1_scores_mean_list), stats.sem(f1_scores_mean_list))\n",
    "print (precision_scores_mean_list)\n",
    "print (recall_scores_mean_list)\n",
    "print (f1_scores_mean_list)\n"
   ]
  },
  {
   "cell_type": "code",
   "execution_count": 70,
   "metadata": {
    "collapsed": false,
    "hidden": true
   },
   "outputs": [
    {
     "name": "stdout",
     "output_type": "stream",
     "text": [
      "0.996551724138\n",
      "0.844285714286\n",
      "0.912993877144\n"
     ]
    }
   ],
   "source": [
    "\"\"\"\n",
    "10^-3, second negative set \n",
    "\"\"\"\n",
    "print (np.mean(precision_l))\n",
    "print (np.mean(recall_l))\n",
    "print (np.mean(f1_l))"
   ]
  },
  {
   "cell_type": "code",
   "execution_count": 68,
   "metadata": {
    "collapsed": false,
    "hidden": true
   },
   "outputs": [
    {
     "name": "stdout",
     "output_type": "stream",
     "text": [
      "0.996666666667\n",
      "0.754537815126\n",
      "0.857488500843\n"
     ]
    }
   ],
   "source": [
    "\"\"\"\n",
    "10^-6, primary negative set \n",
    "\"\"\"\n",
    "print (np.mean(precision_l))\n",
    "print (np.mean(recall_l))\n",
    "print (np.mean(f1_l))"
   ]
  },
  {
   "cell_type": "code",
   "execution_count": 66,
   "metadata": {
    "collapsed": false,
    "hidden": true,
    "scrolled": true
   },
   "outputs": [
    {
     "name": "stdout",
     "output_type": "stream",
     "text": [
      "[1, 0, 1, 0, 1, 1, 1, 1, 1, 1, 1, 1, 1, 1, 1, 1, 1, 1, 0, 1, 1, 1, 1, 0, 1, 1, 1, 0, 1, 0, 1, 1, 1, 1, 0, 0, 0, 0, 0, 0, 0, 0, 0, 0, 0, 0, 0, 0, 0, 0, 0, 0, 0, 0, 0, 0, 0, 0, 0, 0, 0, 0, 0, 0, 0, 0, 0, 0]\n"
     ]
    }
   ],
   "source": [
    "#(y[test_idx] == scores)\n",
    "#y[test_idx][y[test_idx] == 1].shape\n",
    "#y[test_idx]\n",
    "print(scores)"
   ]
  },
  {
   "cell_type": "code",
   "execution_count": 54,
   "metadata": {
    "collapsed": false,
    "hidden": true
   },
   "outputs": [
    {
     "name": "stdout",
     "output_type": "stream",
     "text": [
      "[0.96969696969696972, 1.0, 1.0, 1.0, 1.0, 1.0, 1.0, 0.96969696969696972, 1.0, 1.0]\n",
      "[0.91428571428571426, 0.8571428571428571, 0.8571428571428571, 0.77142857142857146, 0.77142857142857146, 0.77142857142857146, 0.91176470588235292, 0.94117647058823528, 0.82352941176470584, 0.82352941176470584]\n"
     ]
    }
   ],
   "source": [
    "print (precision_l)\n",
    "print (recall_l)"
   ]
  },
  {
   "cell_type": "code",
   "execution_count": 42,
   "metadata": {
    "collapsed": false,
    "hidden": true
   },
   "outputs": [
    {
     "name": "stdout",
     "output_type": "stream",
     "text": [
      "70\n"
     ]
    }
   ],
   "source": [
    "result_handle = open(\"fold_num_0_result.xml\", 'r')\n",
    "blast_records = NCBIXML.parse(result_handle)\n",
    "scores = []\n",
    "# blast_records = number of sequences in query\n",
    "for i, blast_record in enumerate(blast_records):\n",
    "    flag = 0\n",
    "    for j, alignment in enumerate(blast_record.alignments): # alignment = Hit_num in blast result\n",
    "        for hsp in alignment.hsps:\n",
    "            if hsp.expect < 0.001: # less than 10^-3\n",
    "                scores.append(1)\n",
    "                flag = 1\n",
    "                break\n",
    "        if flag == 1:\n",
    "            break\n",
    "    if flag == 0:\n",
    "        scores.append(0)\n",
    "print (len(scores))"
   ]
  },
  {
   "cell_type": "code",
   "execution_count": 34,
   "metadata": {
    "collapsed": false,
    "hidden": true
   },
   "outputs": [
    {
     "name": "stdout",
     "output_type": "stream",
     "text": [
      "70\n",
      "[1, 1, 1, 1, 1, 1, 0, 1, 1, 1, 1, 1, 1, 1, 1, 1, 1, 1, 0, 0, 1, 1, 1, 1, 1, 1, 1, 1, 1, 1, 1, 1, 1, 1, 1, 0, 0, 0, 0, 0, 0, 0, 0, 0, 0, 0, 0, 1, 0, 0, 0, 0, 0, 0, 0, 0, 0, 0, 0, 0, 0, 0, 0, 0, 0, 0, 0, 0, 0, 0]\n"
     ]
    }
   ],
   "source": [
    "result_handle = open(\"fold_num_0_result.xml\", 'r')\n",
    "blast_records = NCBIXML.parse(result_handle)\n",
    "temp = [i for i, blast_record in enumerate(blast_records)]\n",
    "print (len(temp))\n",
    "print (scores)"
   ]
  },
  {
   "cell_type": "code",
   "execution_count": 40,
   "metadata": {
    "collapsed": false,
    "hidden": true,
    "scrolled": true
   },
   "outputs": [
    {
     "data": {
      "text/plain": [
       "35"
      ]
     },
     "execution_count": 40,
     "metadata": {},
     "output_type": "execute_result"
    }
   ],
   "source": [
    "h = y[test_idx]\n",
    "len(h[h==1])"
   ]
  },
  {
   "cell_type": "code",
   "execution_count": 36,
   "metadata": {
    "collapsed": false,
    "hidden": true
   },
   "outputs": [
    {
     "name": "stdout",
     "output_type": "stream",
     "text": [
      "0.969696969697\n",
      "0.914285714286\n",
      "0.941176470588\n"
     ]
    }
   ],
   "source": [
    "precision_s = precision_score(y[test_idx], scores)\n",
    "recall_s = recall_score(y[test_idx], scores)\n",
    "f1_s = f1_score(y[test_idx], scores)\n",
    "print (precision_s)\n",
    "print (recall_s)\n",
    "print (f1_s)"
   ]
  },
  {
   "cell_type": "markdown",
   "metadata": {},
   "source": [
    "## identity-score"
   ]
  },
  {
   "cell_type": "code",
   "execution_count": 15,
   "metadata": {
    "collapsed": false
   },
   "outputs": [
    {
     "name": "stdout",
     "output_type": "stream",
     "text": [
      "Finished Iter 0\n",
      "Finished Iter 1\n",
      "Finished Iter 2\n",
      "Finished Iter 3\n",
      "Finished Iter 4\n",
      "Finished Iter 5\n",
      "Finished Iter 6\n",
      "Finished Iter 7\n",
      "Finished Iter 8\n",
      "Finished Iter 9\n"
     ]
    }
   ],
   "source": [
    "random_seed_list = [3,13,23,33,43,53,63,73,83,93]\n",
    "precision_scores_mean_list = []\n",
    "recall_scores_mean_list = []\n",
    "f1_scores_mean_list = []\n",
    "\n",
    "for rand_seed_num, rand_seed_i in enumerate(random_seed_list):\n",
    "    precision_l = []\n",
    "    recall_l = []\n",
    "    f1_l = []\n",
    "    cv_outer = StratifiedKFold(n_splits = 10, shuffle = True, random_state = random_seed_list[rand_seed_num])\n",
    "    for fold_num, (train_idx, test_idx) in enumerate(cv_outer.split(decoy_train, y)):\n",
    "        with open('third_bacteriocin_training_set', 'r') as in_handle:\n",
    "            out_training_handle = open('fold_num_%s_train_set.fa' % str(fold_num), 'w')\n",
    "            out_test_handle = open('fold_num_%s_test_set.fa' % str(fold_num), 'w')\n",
    "\n",
    "            for index, record in enumerate(SeqIO.parse(in_handle, 'fasta')):\n",
    "                if index in train_idx:\n",
    "                    out_training_handle.write('>%s\\n%s\\n' % (record.description, record.seq))\n",
    "                if index in test_idx:\n",
    "                    out_test_handle.write('>%s\\n%s\\n' % (record.description, record.seq))\n",
    "            out_training_handle.close()\n",
    "            out_test_handle.close()\n",
    "            make_blastdb_command = ['makeblastdb', '-in', 'fold_num_%s_train_set.fa' % str(fold_num),  \n",
    "                                    '-dbtype', 'prot', '-out', 'fold_num_%s_train_set_db' % str(fold_num)]\n",
    "            proc = subprocess.call(make_blastdb_command)\n",
    "            if proc != 0:\n",
    "                print (\"Error in make blast %s\" % str(fold_num))\n",
    "\n",
    "            subprocess.check_call(make_blastdb_command)\n",
    "\n",
    "            blast_cmd = ['blastp', '-db', 'fold_num_%s_train_set_db' % str(fold_num), '-query', \n",
    "                         'fold_num_%s_test_set.fa' % str(fold_num), '-out', 'fold_num_%s_result.xml' % str(fold_num),\n",
    "                         '-outfmt', '5', '-num_threads', '7']\n",
    "            proc = subprocess.call(blast_cmd)\n",
    "            if proc != 0:\n",
    "                print (\"Error in blast %s\" % str(fold_num))\n",
    "\n",
    "            result_handle = open(\"fold_num_%s_result.xml\" % str(fold_num), 'r')\n",
    "            blast_records = NCBIXML.parse(result_handle)\n",
    "            \n",
    "            \n",
    "            probas_ = []\n",
    "        \n",
    "            for i, blast_record in enumerate(blast_records):\n",
    "                identity = []\n",
    "                #flag = 0\n",
    "                # alignments = sequences in database\n",
    "                for j, alignment in enumerate(blast_record.alignments): \n",
    "                    for hsp in alignment.hsps:\n",
    "                        #print (hsp.identities)\n",
    "                        identity.append(hsp.identities)\n",
    "                #print (identity)\n",
    "                if identity == []:\n",
    "                    probas_.append(0)\n",
    "                else:\n",
    "                    probas_.append(max(identity))\n",
    "                \n",
    "            probas_ = [num / 100.0 for num in probas_]\n",
    "            probas_ = np.asarray(probas_)\n",
    "            #print(probas_)\n",
    "            scores = np.where(probas_ > 0.35, 1, 0)\n",
    "            scores = np.asarray(scores)\n",
    "            #print(scores)\n",
    "            precision_s = precision_score(y[test_idx], scores)\n",
    "            recall_s = recall_score(y[test_idx], scores)\n",
    "            f1_s = f1_score(y[test_idx], scores)\n",
    "\n",
    "            precision_l.append(precision_s)\n",
    "            recall_l.append(recall_s)\n",
    "            f1_l.append(f1_s)\n",
    "            \n",
    "    print(\"Finished Iter %s\" % str(rand_seed_num))\n",
    "    precision_scores_mean_list.append(np.mean(precision_l))\n",
    "    recall_scores_mean_list.append(np.mean(recall_l))\n",
    "    f1_scores_mean_list.append(np.mean(f1_l))\n",
    "    \n",
    "    rem_files = ['rm', 'fold_num_*']\n",
    "    proc = subprocess.call('rm fold_num_*', shell=True)\n",
    "    if proc != 0:\n",
    "        print (\"Error in removing files\")\n",
    "    \n",
    "    \n",
    "                \n",
    "#     print (train_idx)\n",
    "#     print (test_idx)\n",
    "#    break"
   ]
  },
  {
   "cell_type": "code",
   "execution_count": 11,
   "metadata": {
    "collapsed": false
   },
   "outputs": [
    {
     "name": "stdout",
     "output_type": "stream",
     "text": [
      "0.9729977733413595 0.0006479026254035766\n",
      "0.506983193277311 0.002581394734023158\n",
      "0.6632197701552881 0.0020727627517767035\n",
      "[0.9743108837737994, 0.9744338118022329, 0.9744486215538846, 0.9706057422969188, 0.9745066630771302, 0.9720489336085312, 0.9764285714285714, 0.9709868421052631, 0.9711309523809524, 0.971076711386309]\n",
      "[0.5146218487394958, 0.5058823529411764, 0.5085714285714286, 0.516470588235294, 0.5092436974789916, 0.5116806722689076, 0.5030252100840336, 0.5000840336134453, 0.5115966386554622, 0.4886554621848739]\n",
      "[0.6704027404408228, 0.6630523378502692, 0.664202141436184, 0.6714355907874185, 0.6615915846338607, 0.6697866568010852, 0.6600283658009577, 0.6587538318958963, 0.6635298413597006, 0.649414610546686]\n"
     ]
    }
   ],
   "source": [
    "\"\"\"\n",
    "Result for 10 random seeds - primary neg\n",
    "\"\"\"\n",
    "print (np.mean(precision_scores_mean_list), stats.sem(precision_scores_mean_list))\n",
    "print (np.mean(recall_scores_mean_list), stats.sem(recall_scores_mean_list))\n",
    "print (np.mean(f1_scores_mean_list), stats.sem(f1_scores_mean_list))\n",
    "print (precision_scores_mean_list)\n",
    "print (recall_scores_mean_list)\n",
    "print (f1_scores_mean_list)"
   ]
  },
  {
   "cell_type": "code",
   "execution_count": 14,
   "metadata": {
    "collapsed": false
   },
   "outputs": [
    {
     "name": "stdout",
     "output_type": "stream",
     "text": [
      "0.9093325712456283 0.0024399040434849094\n",
      "0.5043697478991597 0.0025470180216625904\n",
      "0.6452384866728698 0.00181340493793003\n",
      "[0.9083835569315445, 0.8977741702741703, 0.9014636929940133, 0.9124640637140636, 0.911338164908632, 0.9074713958810069, 0.9254588744588744, 0.9078427569349632, 0.9052372234935164, 0.9158918128654971]\n",
      "[0.5116806722689076, 0.5030252100840336, 0.5056302521008403, 0.5135294117647058, 0.5063865546218487, 0.5087394957983193, 0.5030252100840336, 0.49722689075630255, 0.5087394957983193, 0.48571428571428565]\n",
      "[0.6518265748804322, 0.6432711705608487, 0.6448551642988026, 0.6525940175704306, 0.6456696159159214, 0.6503391411633715, 0.6468224441969823, 0.639281409636073, 0.6438091227072763, 0.6339162057985588]\n"
     ]
    }
   ],
   "source": [
    "\"\"\"\n",
    "Result for 10 random seeds - second neg\n",
    "\"\"\"\n",
    "print (np.mean(precision_scores_mean_list), stats.sem(precision_scores_mean_list))\n",
    "print (np.mean(recall_scores_mean_list), stats.sem(recall_scores_mean_list))\n",
    "print (np.mean(f1_scores_mean_list), stats.sem(f1_scores_mean_list))\n",
    "print (precision_scores_mean_list)\n",
    "print (recall_scores_mean_list)\n",
    "print (f1_scores_mean_list)"
   ]
  },
  {
   "cell_type": "code",
   "execution_count": 16,
   "metadata": {
    "collapsed": false
   },
   "outputs": [
    {
     "name": "stdout",
     "output_type": "stream",
     "text": [
      "0.7473116238652409 0.004302423268586996\n",
      "0.5043697478991597 0.0025470180216625904\n",
      "0.5992339463448919 0.0024389841407542125\n",
      "[0.7787829175006594, 0.7322616323417239, 0.7450350874623739, 0.7561662263303154, 0.7333349399138871, 0.753010257858084, 0.7473328614396725, 0.7358584214386313, 0.7449470081792597, 0.7463868861878015]\n",
      "[0.5116806722689076, 0.5030252100840336, 0.5056302521008403, 0.5135294117647058, 0.5063865546218487, 0.5087394957983193, 0.5030252100840336, 0.49722689075630255, 0.5087394957983193, 0.48571428571428565]\n",
      "[0.6127362564820077, 0.5948400962621542, 0.5980132572040315, 0.6076345897425045, 0.596258424701477, 0.6066817687116681, 0.5969063991486887, 0.5919493939007764, 0.5998542717488438, 0.5874650055467675]\n"
     ]
    }
   ],
   "source": [
    "\"\"\"\n",
    "Result for 10 random seeds - third neg\n",
    "\"\"\"\n",
    "print (np.mean(precision_scores_mean_list), stats.sem(precision_scores_mean_list))\n",
    "print (np.mean(recall_scores_mean_list), stats.sem(recall_scores_mean_list))\n",
    "print (np.mean(f1_scores_mean_list), stats.sem(f1_scores_mean_list))\n",
    "print (precision_scores_mean_list)\n",
    "print (recall_scores_mean_list)\n",
    "print (f1_scores_mean_list)"
   ]
  },
  {
   "cell_type": "code",
   "execution_count": 4,
   "metadata": {
    "collapsed": false
   },
   "outputs": [
    {
     "name": "stdout",
     "output_type": "stream",
     "text": [
      "Finished fold 0\n",
      "Finished fold 1\n",
      "Finished fold 2\n",
      "Finished fold 3\n",
      "Finished fold 4\n",
      "Finished fold 5\n",
      "Finished fold 6\n",
      "Finished fold 7\n",
      "Finished fold 8\n",
      "Finished fold 9\n"
     ]
    }
   ],
   "source": [
    "cv_outer = StratifiedKFold(n_splits = 10, shuffle = True, random_state = 43)\n",
    "\n",
    "thresholds_c = []\n",
    "precision_c = []\n",
    "recall_c = []\n",
    "for fold_num, (train_idx, test_idx) in enumerate(cv_outer.split(decoy_train, y)):\n",
    "    with open('second_bacteriocin_training_set', 'r') as in_handle:\n",
    "        out_training_handle = open('fold_num_%s_train_set.fa' % str(fold_num), 'w')\n",
    "        out_test_handle = open('fold_num_%s_test_set.fa' % str(fold_num), 'w')\n",
    "\n",
    "        for index, record in enumerate(SeqIO.parse(in_handle, 'fasta')):\n",
    "            if index in train_idx and index <= 345:\n",
    "                out_training_handle.write('>%s\\n%s\\n' % (record.description, record.seq))\n",
    "            if index in test_idx:\n",
    "                out_test_handle.write('>%s\\n%s\\n' % (record.description, record.seq))\n",
    "        out_training_handle.close()\n",
    "        out_test_handle.close()\n",
    "        make_blastdb_command = ['makeblastdb', '-in', 'fold_num_%s_train_set.fa' % str(fold_num),  \n",
    "                                '-dbtype', 'prot', '-out', 'fold_num_%s_train_set_db' % str(fold_num)]\n",
    "        proc = subprocess.call(make_blastdb_command)\n",
    "        if proc != 0:\n",
    "            print (\"Error in make blast %s\" % str(fold_num))\n",
    "\n",
    "        subprocess.check_call(make_blastdb_command)\n",
    "\n",
    "        blast_cmd = ['blastp', '-db', 'fold_num_%s_train_set_db' % str(fold_num), '-query', \n",
    "                     'fold_num_%s_test_set.fa' % str(fold_num), '-out', 'fold_num_%s_result.xml' % str(fold_num),\n",
    "                     '-outfmt', '5', '-num_threads', '7']\n",
    "        proc = subprocess.call(blast_cmd)\n",
    "        if proc != 0:\n",
    "            print (\"Error in blast %s\" % str(fold_num))\n",
    "\n",
    "        result_handle = open(\"fold_num_%s_result.xml\" % str(fold_num), 'r')\n",
    "        blast_records = NCBIXML.parse(result_handle)\n",
    "        #scores = []\n",
    "        # blast_records = number of sequences in query\n",
    "        \n",
    "        probas_ = []\n",
    "        \n",
    "        for i, blast_record in enumerate(blast_records):\n",
    "            identity = []\n",
    "            #flag = 0\n",
    "            # alignments = sequences in database\n",
    "            for j, alignment in enumerate(blast_record.alignments): \n",
    "                for hsp in alignment.hsps:\n",
    "                    #print (hsp.identities)\n",
    "                    identity.append(hsp.identities)\n",
    "            #print (identity)\n",
    "            if identity == []:\n",
    "                probas_.append(0)\n",
    "            else:\n",
    "                probas_.append(max(identity))\n",
    "\n",
    "#         precision_s = precision_score(y[test_idx], scores)\n",
    "#         recall_s = recall_score(y[test_idx], scores)\n",
    "#         f1_s = f1_score(y[test_idx], scores)\n",
    "        precision, recall, thresholds = precision_recall_curve(y[test_idx], probas_)\n",
    "        thresholds_c.append(thresholds)\n",
    "        precision_c.append(precision)\n",
    "        recall_.append(recall)\n",
    "        #f1_l.append(f1_s)\n",
    "\n",
    "    print(\"Finished fold %s\" % str(fold_num))\n",
    "#    break"
   ]
  },
  {
   "cell_type": "code",
   "execution_count": 92,
   "metadata": {
    "collapsed": false
   },
   "outputs": [
    {
     "name": "stdout",
     "output_type": "stream",
     "text": [
      "[41, 26, 23, 31, 22, 56, 17, 20, 26, 45, 20, 51, 26, 46, 66, 66, 31, 77, 20, 9, 64, 56, 15, 50, 27, 37, 32, 19, 36, 59, 42, 43, 24, 61, 36, 11, 12, 8, 6, 12, 8, 10, 12, 7, 8, 6, 11, 8, 11, 8, 10, 8, 8, 5, 6, 8, 10, 5, 8, 6, 8, 5, 5, 10, 7]\n"
     ]
    }
   ],
   "source": [
    "print (probas_)"
   ]
  },
  {
   "cell_type": "code",
   "execution_count": 5,
   "metadata": {
    "collapsed": false,
    "scrolled": true
   },
   "outputs": [
    {
     "name": "stdout",
     "output_type": "stream",
     "text": [
      "10\n",
      "10\n",
      "10\n"
     ]
    }
   ],
   "source": [
    "print (len(precision_c))\n",
    "print (len(recall_c))\n",
    "print (len(thresholds_c))"
   ]
  },
  {
   "cell_type": "markdown",
   "metadata": {
    "heading_collapsed": true
   },
   "source": [
    "## 10-fold pr-curve"
   ]
  },
  {
   "cell_type": "code",
   "execution_count": 6,
   "metadata": {
    "collapsed": false,
    "hidden": true,
    "scrolled": true
   },
   "outputs": [
    {
     "name": "stdout",
     "output_type": "stream",
     "text": [
      "Finished fold 0\n",
      "Finished fold 1\n",
      "Finished fold 2\n",
      "Finished fold 3\n",
      "Finished fold 4\n",
      "Finished fold 5\n",
      "Finished fold 6\n",
      "Finished fold 7\n",
      "Finished fold 8\n",
      "Finished fold 9\n"
     ]
    },
    {
     "data": {
      "image/png": "[encoded data removed]",
      "text/plain": [
       "<matplotlib.figure.Figure at 0x7f52919a6f60>"
      ]
     },
     "metadata": {},
     "output_type": "display_data"
    }
   ],
   "source": [
    "import seaborn as sns\n",
    "mean_tpr = 0.0\n",
    "mean_fpr = np.linspace(0, 1, 100)\n",
    "colors = cycle(['cyan', 'crimson', 'seagreen', 'yellow', 'blue', 'darkorange', 'darkviolet', 'fuchsia',\n",
    "               'deepskyblue', 'lightcoral'])\n",
    "\n",
    "sns.set(font_scale = 1.2)\n",
    "colors = sns.hls_palette(10)\n",
    "fig, ax = plt.subplots()\n",
    "fig.set_size_inches(12.0, 8.0)\n",
    "\n",
    "lw = 2\n",
    "i = 0\n",
    "\n",
    "cv_outer = StratifiedKFold(n_splits = 10, shuffle = True, random_state = 43)\n",
    "\n",
    "\n",
    "precision_l = []\n",
    "recall_l = []\n",
    "f1_l = []\n",
    "\n",
    "y_real = []\n",
    "y_proba = []\n",
    "precision_blast = []\n",
    "recall_blast = []\n",
    "threshold_blast = []\n",
    "\n",
    "for fold_num, ((train_idx, test_idx), color) in enumerate(zip(cv_outer.split(decoy_train, y), colors)):\n",
    "    with open('primary_bacteriocin_training_set', 'r') as in_handle:\n",
    "        out_training_handle = open('fold_num_%s_train_set.fa' % str(fold_num), 'w')\n",
    "        out_test_handle = open('fold_num_%s_test_set.fa' % str(fold_num), 'w')\n",
    "\n",
    "        for index, record in enumerate(SeqIO.parse(in_handle, 'fasta')):\n",
    "            #if index in train_idx and index <= 345:\n",
    "            if index in train_idx:\n",
    "                out_training_handle.write('>%s\\n%s\\n' % (record.description, record.seq))\n",
    "            if index in test_idx:\n",
    "                out_test_handle.write('>%s\\n%s\\n' % (record.description, record.seq))\n",
    "        out_training_handle.close()\n",
    "        out_test_handle.close()\n",
    "        make_blastdb_command = ['makeblastdb', '-in', 'fold_num_%s_train_set.fa' % str(fold_num),  \n",
    "                                '-dbtype', 'prot', '-out', 'fold_num_%s_train_set_db' % str(fold_num)]\n",
    "        proc = subprocess.call(make_blastdb_command)\n",
    "        if proc != 0:\n",
    "            print (\"Error in make blast %s\" % str(fold_num))\n",
    "\n",
    "        subprocess.check_call(make_blastdb_command)\n",
    "\n",
    "        blast_cmd = ['blastp', '-db', 'fold_num_%s_train_set_db' % str(fold_num), '-query', \n",
    "                     'fold_num_%s_test_set.fa' % str(fold_num), '-out', 'fold_num_%s_result.xml' % str(fold_num),\n",
    "                     '-outfmt', '5', '-num_threads', '7']\n",
    "        proc = subprocess.call(blast_cmd)\n",
    "        if proc != 0:\n",
    "            print (\"Error in blast %s\" % str(fold_num))\n",
    "\n",
    "        result_handle = open(\"fold_num_%s_result.xml\" % str(fold_num), 'r')\n",
    "        blast_records = NCBIXML.parse(result_handle)\n",
    "        #scores = []\n",
    "        # blast_records = number of sequences in query\n",
    "        \n",
    "        probas_ = []\n",
    "        \n",
    "        for i, blast_record in enumerate(blast_records):\n",
    "            identity = []\n",
    "            #flag = 0\n",
    "            # alignments = sequences in database\n",
    "            for j, alignment in enumerate(blast_record.alignments): \n",
    "                for hsp in alignment.hsps:\n",
    "                    #print (hsp.identities)\n",
    "                    identity.append(hsp.identities)\n",
    "            #print (identity)\n",
    "            if identity == []:\n",
    "                probas_.append(0)\n",
    "            else:\n",
    "                probas_.append(max(identity))\n",
    "\n",
    "        \n",
    "        probas_ = [num / 100.0 for num in probas_]\n",
    "        probas_ = np.asarray(probas_)\n",
    "        #print(probas_)\n",
    "        scores = np.where(probas_ > 0.35, 1, 0)\n",
    "        scores = np.asarray(scores)\n",
    "        #print(scores)\n",
    "        #print(y[test_idx])\n",
    "        precision_s = precision_score(y[test_idx], scores)\n",
    "        recall_s = recall_score(y[test_idx], scores)\n",
    "        f1_s = f1_score(y[test_idx], scores)\n",
    "        \n",
    "        precision_l.append(precision_s)\n",
    "        recall_l.append(recall_s)\n",
    "        f1_l.append(f1_s)\n",
    "        \n",
    "        precision, recall, thresholds = precision_recall_curve(y[test_idx], probas_)\n",
    "        precision_blast.append(precision)\n",
    "        recall_blast.append(recall)\n",
    "        threshold_blast.append(thresholds)\n",
    "        \n",
    "        plt.plot(recall, precision, lw=lw, color=color,\n",
    "             label='Fold %d (area = %0.3f)' % (i, auc(recall, precision)))\n",
    "        y_real.append(y[test_idx])\n",
    "        y_proba.append(probas_)\n",
    "        i += 1\n",
    "        \n",
    "        rem_files = ['rm', 'fold_num_*']\n",
    "        proc = subprocess.call('rm fold_num_*', shell=True)\n",
    "        if proc != 0:\n",
    "            print (\"Error in removing files\")\n",
    "        \n",
    "\n",
    "    print(\"Finished fold %s\" % str(fold_num))\n",
    "#    break\n",
    "y_real = np.concatenate(y_real)\n",
    "y_proba = np.concatenate(y_proba)\n",
    "precision, recall, thresholds = precision_recall_curve(y_real, y_proba)\n",
    "precision_blast.append(precision)\n",
    "recall_blast.append(recall)\n",
    "threshold_blast.append(thresholds)\n",
    "plt.plot(recall, precision, lw=lw, color='g', linestyle='--',\n",
    "             label='Mean (area = %0.3f)' % (auc(recall, precision)))\n",
    "\n",
    "plt.xlim([-0.05, 1.05])\n",
    "plt.ylim([-0.05, 1.05])\n",
    "plt.xlabel('Recall')\n",
    "plt.ylabel('Precision')\n",
    "plt.title('SVM Precision Recall Curve')\n",
    "plt.legend(loc=\"lower left\")\n",
    "plt.show()"
   ]
  },
  {
   "cell_type": "code",
   "execution_count": 7,
   "metadata": {
    "collapsed": true,
    "hidden": true
   },
   "outputs": [],
   "source": [
    "# np.save('blast_precision_10_fold_seed_43.npy', precision_blast)\n",
    "# np.save('blast_recall_10_fold_seed_43.npy', recall_blast)\n",
    "# np.save('blast_threshold_10_fold_seed_43.npy', threshold_blast)"
   ]
  },
  {
   "cell_type": "code",
   "execution_count": null,
   "metadata": {
    "collapsed": true,
    "hidden": true
   },
   "outputs": [],
   "source": [
    "import seaborn as sns\n",
    "mean_tpr = 0.0\n",
    "mean_fpr = np.linspace(0, 1, 100)\n",
    "colors = cycle(['cyan', 'crimson', 'seagreen', 'yellow', 'blue', 'darkorange', 'darkviolet', 'fuchsia',\n",
    "               'deepskyblue', 'lightcoral'])\n",
    "\n",
    "sns.set(font_scale = 1.2)\n",
    "colors = sns.hls_palette(10)\n",
    "fig, ax = plt.subplots()\n",
    "fig.set_size_inches(12.0, 8.0)\n",
    "\n",
    "lw = 2\n",
    "i = 0\n",
    "\n",
    "cv_outer = StratifiedKFold(n_splits = 10, shuffle = True, random_state = 43)\n",
    "\n",
    "\n",
    "precision_l = []\n",
    "recall_l = []\n",
    "f1_l = []\n",
    "\n",
    "y_real = []\n",
    "y_proba = []\n",
    "precision_blast = []\n",
    "recall_blast = []\n",
    "threshold_blast = []\n",
    "\n",
    "for fold_num, ((train_idx, test_idx), color) in enumerate(zip(cv_outer.split(decoy_train, y), colors)):\n",
    "    with open('primary_bacteriocin_training_set', 'r') as in_handle:\n",
    "        out_training_handle = open('fold_num_%s_train_set.fa' % str(fold_num), 'w')\n",
    "        out_test_handle = open('fold_num_%s_test_set.fa' % str(fold_num), 'w')\n",
    "\n",
    "        for index, record in enumerate(SeqIO.parse(in_handle, 'fasta')):\n",
    "            #if index in train_idx and index <= 345:\n",
    "            if index in train_idx:\n",
    "                out_training_handle.write('>%s\\n%s\\n' % (record.description, record.seq))\n",
    "            if index in test_idx:\n",
    "                out_test_handle.write('>%s\\n%s\\n' % (record.description, record.seq))\n",
    "        out_training_handle.close()\n",
    "        out_test_handle.close()\n",
    "        make_blastdb_command = ['makeblastdb', '-in', 'fold_num_%s_train_set.fa' % str(fold_num),  \n",
    "                                '-dbtype', 'prot', '-out', 'fold_num_%s_train_set_db' % str(fold_num)]\n",
    "        proc = subprocess.call(make_blastdb_command)\n",
    "        if proc != 0:\n",
    "            print (\"Error in make blast %s\" % str(fold_num))\n",
    "\n",
    "        subprocess.check_call(make_blastdb_command)\n",
    "\n",
    "        blast_cmd = ['blastp', '-db', 'fold_num_%s_train_set_db' % str(fold_num), '-query', \n",
    "                     'fold_num_%s_test_set.fa' % str(fold_num), '-out', 'fold_num_%s_result.xml' % str(fold_num),\n",
    "                     '-outfmt', '5', '-num_threads', '7']\n",
    "        proc = subprocess.call(blast_cmd)\n",
    "        if proc != 0:\n",
    "            print (\"Error in blast %s\" % str(fold_num))\n",
    "\n",
    "        result_handle = open(\"fold_num_%s_result.xml\" % str(fold_num), 'r')\n",
    "        blast_records = NCBIXML.parse(result_handle)\n",
    "        #scores = []\n",
    "        # blast_records = number of sequences in query\n",
    "        \n",
    "        scores = []\n",
    "        # blast_records = number of sequences in query\n",
    "        for i, blast_record in enumerate(blast_records):\n",
    "            flag = 0\n",
    "            # alignments = sequences in database\n",
    "            for j, alignment in enumerate(blast_record.alignments): \n",
    "                for hsp in alignment.hsps:\n",
    "                    if hsp.expect < 0.001: # less than 10^-3\n",
    "                        scores.append(1)\n",
    "                        flag = 1\n",
    "                        break\n",
    "                if flag == 1:\n",
    "                    break\n",
    "            if flag == 0:\n",
    "                scores.append(0)\n",
    "\n",
    "        \n",
    "        probas_ = [num / 100.0 for num in probas_]\n",
    "        probas_ = np.asarray(probas_)\n",
    "        #print(probas_)\n",
    "        scores = np.where(probas_ > 0.35, 1, 0)\n",
    "        scores = np.asarray(scores)\n",
    "        #print(scores)\n",
    "        #print(y[test_idx])\n",
    "        precision_s = precision_score(y[test_idx], scores)\n",
    "        recall_s = recall_score(y[test_idx], scores)\n",
    "        f1_s = f1_score(y[test_idx], scores)\n",
    "        \n",
    "        precision_l.append(precision_s)\n",
    "        recall_l.append(recall_s)\n",
    "        f1_l.append(f1_s)\n",
    "        \n",
    "        precision, recall, thresholds = precision_recall_curve(y[test_idx], probas_)\n",
    "        precision_blast.append(precision)\n",
    "        recall_blast.append(recall)\n",
    "        threshold_blast.append(thresholds)\n",
    "        \n",
    "        plt.plot(recall, precision, lw=lw, color=color,\n",
    "             label='Fold %d (area = %0.3f)' % (i, auc(recall, precision)))\n",
    "        y_real.append(y[test_idx])\n",
    "        y_proba.append(probas_)\n",
    "        i += 1\n",
    "        \n",
    "        rem_files = ['rm', 'fold_num_*']\n",
    "        proc = subprocess.call('rm fold_num_*', shell=True)\n",
    "        if proc != 0:\n",
    "            print (\"Error in removing files\")\n",
    "        \n",
    "\n",
    "    print(\"Finished fold %s\" % str(fold_num))\n",
    "#    break\n",
    "y_real = np.concatenate(y_real)\n",
    "y_proba = np.concatenate(y_proba)\n",
    "precision, recall, thresholds = precision_recall_curve(y_real, y_proba)\n",
    "precision_blast.append(precision)\n",
    "recall_blast.append(recall)\n",
    "threshold_blast.append(thresholds)\n",
    "plt.plot(recall, precision, lw=lw, color='g', linestyle='--',\n",
    "             label='Mean (area = %0.3f)' % (auc(recall, precision)))\n",
    "\n",
    "plt.xlim([-0.05, 1.05])\n",
    "plt.ylim([-0.05, 1.05])\n",
    "plt.xlabel('Recall')\n",
    "plt.ylabel('Precision')\n",
    "plt.title('SVM Precision Recall Curve')\n",
    "plt.legend(loc=\"lower left\")\n",
    "plt.show()"
   ]
  },
  {
   "cell_type": "code",
   "execution_count": 8,
   "metadata": {
    "collapsed": false,
    "hidden": true
   },
   "outputs": [
    {
     "name": "stdout",
     "output_type": "stream",
     "text": [
      "0.9745066630771302\n",
      "0.5092436974789916\n",
      "0.6615915846338607\n"
     ]
    }
   ],
   "source": [
    "print (np.mean(precision_l))\n",
    "print (np.mean(recall_l))\n",
    "print (np.mean(f1_l))"
   ]
  },
  {
   "cell_type": "code",
   "execution_count": 25,
   "metadata": {
    "collapsed": false,
    "hidden": true
   },
   "outputs": [
    {
     "name": "stdout",
     "output_type": "stream",
     "text": [
      "[1.0, 1.0, 1.0, 1.0, 1.0, 1.0, 1.0, 1.0, 1.0, 1.0]\n"
     ]
    }
   ],
   "source": [
    "print (precision_l)"
   ]
  },
  {
   "cell_type": "code",
   "execution_count": 21,
   "metadata": {
    "collapsed": false,
    "hidden": true
   },
   "outputs": [
    {
     "name": "stdout",
     "output_type": "stream",
     "text": [
      "68\n",
      "[0.27, 0.08, 0.51, 0.13, 0.45, 0.2, 0.48, 0.28, 0.18, 0.68, 0.27, 0.66, 0.52, 0.62, 0.17, 0.43, 0.39, 0.33, 0.21, 0.3, 0.37, 0.41, 0.18, 0.11, 0.67, 0.59, 0.56, 0.11, 0.36, 0.19, 0.37, 0.52, 0.27, 0.34, 0.08, 0.08, 0.08, 0.09, 0.11, 0.1, 0.08, 0.13, 0.08, 0.21, 0.1, 0.0, 0.0, 0.0, 0.09, 0.0, 0.09, 0.0, 0.14, 0.09, 0.08, 0.07, 0.08, 0.06, 0.06, 0.1, 0.05, 0.06, 0.09, 0.14, 0.09, 0.1, 0.09, 0.09]\n"
     ]
    }
   ],
   "source": [
    "print (len(probas_))\n",
    "print (probas_)"
   ]
  },
  {
   "cell_type": "code",
   "execution_count": 32,
   "metadata": {
    "collapsed": false,
    "hidden": true
   },
   "outputs": [
    {
     "name": "stdout",
     "output_type": "stream",
     "text": [
      "[1 2]\n"
     ]
    }
   ],
   "source": [
    "a = [1, 2]\n",
    "a = np.asarray(a)\n",
    "print(a)"
   ]
  },
  {
   "cell_type": "markdown",
   "metadata": {
    "heading_collapsed": true
   },
   "source": [
    "## 10-fold ROC curve "
   ]
  },
  {
   "cell_type": "code",
   "execution_count": 69,
   "metadata": {
    "collapsed": false,
    "hidden": true,
    "scrolled": true
   },
   "outputs": [
    {
     "name": "stdout",
     "output_type": "stream",
     "text": [
      "[1 0 0 0 0 1 0 0 0 1 0 1 0 1 1 1 0 1 0 0 1 1 0 1 0 0 0 0 0 1 1 1 0 1 0 0 1\n",
      " 0 0 0 0 0 0 0 0 0 0 1 0 0 0 0 0 0 0 0 0 0 0 0 0 0 0 0 0 0 0 0 0 0]\n",
      "[0.41 0.26 0.23 0.31 0.22 0.56 0.17 0.2  0.26 0.45 0.2  0.51 0.26 0.46\n",
      " 0.66 0.66 0.31 0.77 0.2  0.09 0.64 0.56 0.15 0.5  0.27 0.37 0.32 0.19\n",
      " 0.36 0.59 0.42 0.43 0.24 0.61 0.36 0.25 0.41 0.3  0.1  0.12 0.13 0.1\n",
      " 0.12 0.23 0.11 0.08 0.09 0.43 0.18 0.18 0.11 0.11 0.11 0.08 0.11 0.07\n",
      " 0.06 0.14 0.12 0.22 0.22 0.17 0.08 0.12 0.21 0.   0.12 0.07 0.1  0.1 ]\n",
      "Finished fold 0\n",
      "[0 1 1 0 0 0 0 1 1 1 1 1 1 1 0 0 1 1 1 1 0 1 1 1 0 0 1 1 1 0 0 1 1 1 0 0 0\n",
      " 0 0 0 0 0 0 0 0 0 0 0 0 0 0 0 0 0 0 0 0 0 0 0 0 0 0 0 0 0 0 0 0 0]\n",
      "[0.3  0.49 0.41 0.25 0.14 0.19 0.19 0.56 0.52 0.59 0.44 0.47 0.5  0.59\n",
      " 0.16 0.19 0.49 0.69 0.45 0.88 0.2  0.66 0.43 0.64 0.18 0.33 0.54 0.62\n",
      " 0.43 0.16 0.15 0.89 0.96 0.6  0.24 0.36 0.09 0.33 0.09 0.08 0.27 0.18\n",
      " 0.1  0.06 0.19 0.08 0.1  0.25 0.09 0.15 0.14 0.21 0.22 0.   0.06 0.09\n",
      " 0.16 0.07 0.11 0.09 0.14 0.09 0.1  0.2  0.17 0.25 0.17 0.07 0.06 0.08]\n",
      "Finished fold 1\n",
      "[0 1 1 1 0 0 1 0 0 0 0 1 1 1 0 0 0 0 1 0 0 0 1 0 0 0 0 1 1 0 0 0 1 1 0 0 0\n",
      " 0 0 0 0 0 0 0 0 0 0 0 0 0 0 0 0 0 0 0 0 0 0 0 0 0 0 0 0 0 0 0 0 0]\n",
      "[0.09 0.6  0.42 0.43 0.19 0.16 0.43 0.31 0.2  0.29 0.33 0.69 0.46 0.47\n",
      " 0.34 0.12 0.14 0.1  0.52 0.13 0.09 0.26 0.46 0.19 0.32 0.35 0.12 0.96\n",
      " 0.41 0.29 0.19 0.13 0.67 0.43 0.29 0.25 0.09 0.13 0.06 0.21 0.29 0.33\n",
      " 0.07 0.25 0.16 0.12 0.17 0.04 0.12 0.1  0.23 0.08 0.13 0.05 0.12 0.12\n",
      " 0.08 0.14 0.07 0.1  0.09 0.14 0.2  0.06 0.21 0.1  0.15 0.13 0.14 0.09]\n",
      "Finished fold 2\n",
      "[0 0 1 0 0 0 0 0 1 1 1 0 0 0 0 0 0 0 0 0 1 1 1 1 1 0 0 0 0 0 0 0 0 0 0 0 0\n",
      " 0 0 0 0 0 0 0 0 0 0 0 0 0 0 0 0 0 0 0 0 0 0 0 0 0 0 0 0 0 0 0 0 0]\n",
      "[0.26 0.2  0.58 0.39 0.32 0.36 0.23 0.   0.42 0.69 0.46 0.31 0.19 0.15\n",
      " 0.32 0.07 0.13 0.29 0.28 0.22 0.74 0.65 0.62 0.71 0.44 0.21 0.33 0.24\n",
      " 0.29 0.16 0.18 0.11 0.12 0.08 0.   0.05 0.14 0.21 0.31 0.08 0.1  0.29\n",
      " 0.33 0.11 0.16 0.26 0.12 0.12 0.07 0.   0.11 0.   0.16 0.11 0.15 0.29\n",
      " 0.19 0.14 0.07 0.14 0.17 0.08 0.21 0.22 0.25 0.14 0.13 0.09 0.16 0.09]\n",
      "Finished fold 3\n",
      "[0 1 0 0 1 0 1 1 0 0 0 1 0 0 0 1 0 1 0 0 1 0 0 1 0 0 0 0 1 1 1 1 1 0 1 0 0\n",
      " 0 0 0 0 0 0 0 0 0 0 0 0 0 0 0 0 0 0 0 0 0 0 0 0 0 0 0 0 0 0 0 0 0]\n",
      "[0.4  0.51 0.05 0.25 0.42 0.09 0.46 0.44 0.22 0.14 0.26 0.68 0.28 0.09\n",
      " 0.12 0.47 0.39 0.66 0.38 0.12 0.42 0.19 0.37 0.46 0.33 0.14 0.3  0.39\n",
      " 0.96 0.42 0.6  0.61 0.85 0.24 0.64 0.08 0.3  0.09 0.2  0.26 0.08 0.14\n",
      " 0.11 0.25 0.07 0.26 0.08 0.12 0.08 0.13 0.15 0.07 0.1  0.07 0.09 0.09\n",
      " 0.17 0.13 0.09 0.22 0.08 0.08 0.08 0.09 0.17 0.07 0.09 0.09 0.09 0.12]\n",
      "Finished fold 4\n",
      "[0 1 0 1 0 0 0 0 1 1 0 0 0 1 0 1 1 1 0 1 0 1 1 0 0 0 1 0 0 0 0 1 0 1 0 0 0\n",
      " 0 0 0 0 0 0 0 0 0 0 0 0 0 0 0 0 0 0 0 0 0 0 0 0 0 0 0 0 0 0 0 0 0]\n",
      "[0.36 0.43 0.19 0.56 0.33 0.06 0.06 0.3  0.47 0.58 0.2  0.35 0.07 0.88\n",
      " 0.33 0.47 0.83 0.66 0.12 0.43 0.27 0.43 0.69 0.12 0.38 0.1  0.74 0.15\n",
      " 0.32 0.19 0.18 0.61 0.17 0.85 0.27 0.23 0.08 0.39 0.2  0.24 0.1  0.07\n",
      " 0.11 0.15 0.17 0.08 0.26 0.08 0.12 0.09 0.06 0.13 0.11 0.1  0.07 0.13\n",
      " 0.14 0.09 0.13 0.09 0.   0.06 0.17 0.22 0.08 0.09 0.18 0.09 0.11 0.07]\n",
      "Finished fold 5\n",
      "[0 1 0 0 0 0 0 0 1 1 1 0 1 0 1 0 0 0 0 0 0 0 0 1 0 0 1 0 1 0 1 1 1 0 1 0 0\n",
      " 0 0 0 0 0 0 0 0 0 0 0 0 0 0 0 0 0 0 0 0 0 0 0 0 0 0 0 0 0 0 0]\n",
      "[0.38 0.49 0.38 0.38 0.18 0.3  0.35 0.32 0.47 0.67 0.44 0.39 0.47 0.39\n",
      " 0.52 0.08 0.21 0.33 0.23 0.32 0.33 0.21 0.26 0.7  0.39 0.16 0.5  0.14\n",
      " 0.96 0.28 0.56 0.52 0.64 0.3  0.41 0.31 0.17 0.28 0.33 0.07 0.09 0.1\n",
      " 0.15 0.19 0.   0.13 0.11 0.08 0.17 0.1  0.17 0.11 0.12 0.17 0.06 0.29\n",
      " 0.19 0.09 0.11 0.13 0.08 0.13 0.13 0.09 0.19 0.07 0.06 0.13]\n",
      "Finished fold 6\n",
      "[1 0 0 1 1 1 1 1 1 0 0 0 1 0 1 1 0 1 0 1 1 1 1 1 0 1 0 1 0 0 1 0 0 0 0 0 0\n",
      " 0 0 0 0 0 0 0 0 0 0 0 0 0 0 0 0 0 0 0 0 0 0 0 0 0 0 0 0 0 0 0]\n",
      "[0.59 0.17 0.38 0.43 0.58 0.46 0.52 0.46 0.46 0.19 0.12 0.15 0.74 0.36\n",
      " 0.79 0.8  0.28 0.77 0.38 0.43 0.71 0.42 0.56 0.41 0.38 0.54 0.3  0.5\n",
      " 0.17 0.15 0.89 0.38 0.26 0.13 0.07 0.23 0.31 0.08 0.08 0.1  0.05 0.09\n",
      " 0.12 0.22 0.09 0.1  0.1  0.12 0.17 0.15 0.08 0.   0.14 0.14 0.09 0.25\n",
      " 0.11 0.12 0.09 0.2  0.25 0.1  0.11 0.14 0.07 0.13 0.1  0.08]\n",
      "Finished fold 7\n",
      "[0 0 0 0 0 1 0 0 1 0 0 0 1 1 0 0 0 1 1 1 1 0 1 0 0 0 0 1 1 1 0 0 1 0 0 0 0\n",
      " 0 0 0 0 0 0 0 0 0 0 0 0 0 0 0 0 0 0 0 0 0 0 0 0 0 0 0 0 0 0 0]\n",
      "[0.36 0.13 0.33 0.25 0.27 0.62 0.29 0.37 0.5  0.4  0.08 0.34 0.6  0.43\n",
      " 0.32 0.3  0.11 0.7  0.83 0.5  0.69 0.21 0.56 0.36 0.29 0.07 0.18 0.45\n",
      " 0.56 0.49 0.14 0.16 0.89 0.29 0.21 0.25 0.24 0.16 0.12 0.29 0.13 0.2\n",
      " 0.14 0.11 0.23 0.08 0.13 0.11 0.14 0.09 0.12 0.17 0.13 0.07 0.13 0.08\n",
      " 0.15 0.09 0.21 0.09 0.25 0.05 0.17 0.08 0.15 0.08 0.16 0.16]\n",
      "Finished fold 8\n",
      "[0 0 1 0 1 0 1 0 0 1 0 1 1 1 0 1 0 0 0 0 0 1 0 0 1 1 1 0 0 0 0 1 0 0 0 0 0\n",
      " 0 0 0 0 0 0 0 0 0 0 0 0 0 0 0 0 0 0 0 0 0 0 0 0 0 0 0 0 0 0 0]\n",
      "[0.27 0.12 0.51 0.13 0.45 0.2  0.48 0.28 0.18 0.68 0.27 0.66 0.52 0.62\n",
      " 0.17 0.43 0.39 0.33 0.21 0.3  0.37 0.41 0.18 0.09 0.67 0.59 0.56 0.11\n",
      " 0.36 0.19 0.37 0.52 0.27 0.34 0.28 0.31 0.26 0.33 0.33 0.1  0.1  0.26\n",
      " 0.22 0.1  0.11 0.19 0.08 0.14 0.04 0.12 0.05 0.1  0.09 0.22 0.22 0.1\n",
      " 0.12 0.11 0.15 0.13 0.08 0.09 0.1  0.16 0.16 0.07 0.11 0.07]\n",
      "Finished fold 9\n"
     ]
    },
    {
     "data": {
      "image/png": "[encoded data removed]",
      "text/plain": [
       "<matplotlib.figure.Figure at 0x7f2dd6e8bfd0>"
      ]
     },
     "metadata": {},
     "output_type": "display_data"
    }
   ],
   "source": [
    "# ROC curve stuff\n",
    "mean_tpr = 0.0\n",
    "mean_fpr = np.linspace(0, 1, 100)\n",
    "colors = cycle(['cyan', 'crimson', 'seagreen', 'yellow', 'blue', 'darkorange', 'darkviolet', 'fuchsia',\n",
    "               'deepskyblue', 'lightcoral'])\n",
    "lw = 2\n",
    "i = 0\n",
    "\n",
    "sns.set(font_scale = 1.2)\n",
    "colors = sns.hls_palette(10)\n",
    "fig, ax = plt.subplots()\n",
    "fig.set_size_inches(12.0, 8.0)\n",
    "\n",
    "precision_scores = []\n",
    "recall_scores = []\n",
    "f1_scores = []\n",
    "\n",
    "fpr_svm = []\n",
    "tpr_svm = []\n",
    "threshold_roc_svm = []\n",
    "\n",
    "cv_outer = StratifiedKFold(n_splits = 10, shuffle = True, random_state = 43)\n",
    "\n",
    "thresholds_c = []\n",
    "precision_c = []\n",
    "recall_c = []\n",
    "for fold_num, ((train_idx, test_idx), color) in enumerate(zip(cv_outer.split(decoy_train, y), colors)):\n",
    "    with open('primary_bacteriocin_training_set', 'r') as in_handle:\n",
    "        out_training_handle = open('fold_num_%s_train_set.fa' % str(fold_num), 'w')\n",
    "        out_test_handle = open('fold_num_%s_test_set.fa' % str(fold_num), 'w')\n",
    "\n",
    "        for index, record in enumerate(SeqIO.parse(in_handle, 'fasta')):\n",
    "            #if index in train_idx and index <= 345:\n",
    "            if index in train_idx:\n",
    "                out_training_handle.write('>%s\\n%s\\n' % (record.description, record.seq))\n",
    "            if index in test_idx:\n",
    "                out_test_handle.write('>%s\\n%s\\n' % (record.description, record.seq))\n",
    "        out_training_handle.close()\n",
    "        out_test_handle.close()\n",
    "        make_blastdb_command = ['makeblastdb', '-in', 'fold_num_%s_train_set.fa' % str(fold_num),  \n",
    "                                '-dbtype', 'prot', '-out', 'fold_num_%s_train_set_db' % str(fold_num)]\n",
    "        proc = subprocess.call(make_blastdb_command)\n",
    "        if proc != 0:\n",
    "            print (\"Error in make blast %s\" % str(fold_num))\n",
    "\n",
    "        subprocess.check_call(make_blastdb_command)\n",
    "\n",
    "        blast_cmd = ['blastp', '-db', 'fold_num_%s_train_set_db' % str(fold_num), '-query', \n",
    "                     'fold_num_%s_test_set.fa' % str(fold_num), '-out', 'fold_num_%s_result.xml' % str(fold_num),\n",
    "                     '-outfmt', '5', '-num_threads', '7']\n",
    "        proc = subprocess.call(blast_cmd)\n",
    "        if proc != 0:\n",
    "            print (\"Error in blast %s\" % str(fold_num))\n",
    "\n",
    "        result_handle = open(\"fold_num_%s_result.xml\" % str(fold_num), 'r')\n",
    "        blast_records = NCBIXML.parse(result_handle)\n",
    "        #scores = []\n",
    "        # blast_records = number of sequences in query\n",
    "        \n",
    "        probas_ = []\n",
    "        \n",
    "        for i, blast_record in enumerate(blast_records):\n",
    "            identity = []\n",
    "            #flag = 0\n",
    "            # alignments = sequences in database\n",
    "            for j, alignment in enumerate(blast_record.alignments): \n",
    "                for hsp in alignment.hsps:\n",
    "                    #print (hsp.identities)\n",
    "                    identity.append(hsp.identities)\n",
    "            #print (identity)\n",
    "            if identity == []:\n",
    "                probas_.append(0)\n",
    "            else:\n",
    "                probas_.append(max(identity))\n",
    "\n",
    "#         precision_s = precision_score(y[test_idx], scores)\n",
    "#         recall_s = recall_score(y[test_idx], scores)\n",
    "#         f1_s = f1_score(y[test_idx], scores)\n",
    "        probas_ = [num / 100.0 for num in probas_]\n",
    "        probas_ = np.asarray(probas_)\n",
    "        #print(probas_)\n",
    "        scores = np.where(probas_ > 0.4, 1, 0)\n",
    "        scores = np.asarray(scores)\n",
    "        print(scores)\n",
    "        print(probas_)\n",
    "        \n",
    "        fpr, tpr, thresholds = roc_curve(y[test_idx], probas_, pos_label = 1)\n",
    "\n",
    "        fpr_svm.append(fpr)\n",
    "        tpr_svm.append(tpr)\n",
    "        threshold_roc_svm.append(thresholds)\n",
    "\n",
    "        mean_tpr += interp(mean_fpr, fpr, tpr)\n",
    "        mean_tpr[0] = 0.0\n",
    "        roc_auc = auc(fpr, tpr)\n",
    "        plt.plot(fpr, tpr, lw=lw, color=color,\n",
    "                 label='ROC fold %d (area = %0.2f)' % (i, roc_auc))\n",
    "        i += 1\n",
    "        #f1_l.append(f1_s)\n",
    "\n",
    "    print(\"Finished fold %s\" % str(fold_num))\n",
    "#    break\n",
    "# Draw ROC curves\n",
    "plt.plot([0, 1], [0, 1], linestyle='--', lw=lw, color='k',\n",
    "         label='Base line')\n",
    "\n",
    "mean_tpr /= cv_outer.get_n_splits(decoy_train, y)\n",
    "mean_tpr[-1] = 1.0\n",
    "mean_auc = auc(mean_fpr, mean_tpr)\n",
    "\n",
    "\n",
    "plt.plot(mean_fpr, mean_tpr, color='g', linestyle='--',\n",
    "         label='Mean ROC (area = %0.2f)' % mean_auc, lw=lw)\n",
    "\n",
    "plt.xlim([-0.05, 1.05])\n",
    "plt.ylim([-0.05, 1.05])\n",
    "plt.xlabel('False Positive Rate')\n",
    "plt.ylabel('True Positive Rate')\n",
    "plt.title('SVM Receiver operating characteristic')\n",
    "plt.legend(loc=\"lower right\")\n",
    "plt.show()"
   ]
  },
  {
   "cell_type": "code",
   "execution_count": 39,
   "metadata": {
    "collapsed": false,
    "hidden": true,
    "scrolled": true
   },
   "outputs": [
    {
     "data": {
      "text/plain": [
       "[array([0.02857143, 0.08571429, 0.17142857, 0.22857143, 0.34285714,\n",
       "        0.37142857, 0.45714286, 0.51428571, 0.54285714, 0.6       ,\n",
       "        0.62857143, 0.71428571, 0.8       , 0.88571429, 0.97142857,\n",
       "        0.97142857, 0.97142857, 0.97142857, 1.        , 1.        ,\n",
       "        1.        , 1.        , 1.        , 1.        ]),\n",
       " array([0.02857143, 0.22857143, 0.28571429, 0.4       , 0.45714286,\n",
       "        0.54285714, 0.6       , 0.77142857, 0.85714286, 0.88571429,\n",
       "        0.94285714, 1.        , 1.        , 1.        , 1.        ,\n",
       "        1.        , 1.        , 1.        , 1.        , 1.        ]),\n",
       " array([0.02857143, 0.17142857, 0.28571429, 0.48571429, 0.57142857,\n",
       "        0.68571429, 0.77142857, 0.77142857, 0.8       , 0.8       ,\n",
       "        0.85714286, 0.88571429, 0.88571429, 0.91428571, 0.94285714,\n",
       "        0.97142857, 1.        , 1.        , 1.        ]),\n",
       " array([0.02857143, 0.34285714, 0.4       , 0.42857143, 0.48571429,\n",
       "        0.68571429, 0.71428571, 0.77142857, 0.8       , 0.8       ,\n",
       "        0.85714286, 0.85714286, 0.85714286, 0.91428571, 0.94285714,\n",
       "        0.94285714, 0.97142857, 1.        ]),\n",
       " array([0.02857143, 0.25714286, 0.31428571, 0.34285714, 0.42857143,\n",
       "        0.45714286, 0.51428571, 0.82857143, 0.82857143, 0.85714286,\n",
       "        0.88571429, 0.91428571, 0.91428571, 0.94285714, 0.94285714,\n",
       "        0.94285714, 0.94285714, 0.97142857, 0.97142857, 1.        ]),\n",
       " array([0.02857143, 0.25714286, 0.31428571, 0.4       , 0.48571429,\n",
       "        0.54285714, 0.6       , 0.65714286, 0.68571429, 0.74285714,\n",
       "        0.77142857, 0.77142857, 0.8       , 0.8       , 0.85714286,\n",
       "        0.91428571, 0.91428571, 0.94285714, 1.        , 1.        ,\n",
       "        1.        , 1.        ]),\n",
       " array([0.02941176, 0.14705882, 0.20588235, 0.26470588, 0.32352941,\n",
       "        0.35294118, 0.52941176, 0.55882353, 0.73529412, 0.82352941,\n",
       "        0.88235294, 0.94117647, 0.94117647, 0.94117647, 0.94117647,\n",
       "        0.97058824, 0.97058824, 0.97058824, 1.        , 1.        ,\n",
       "        1.        ]),\n",
       " array([0.02941176, 0.35294118, 0.44117647, 0.5       , 0.55882353,\n",
       "        0.67647059, 0.82352941, 0.88235294, 0.88235294, 0.94117647,\n",
       "        0.94117647, 0.97058824, 1.        , 1.        , 1.        ,\n",
       "        1.        , 1.        , 1.        , 1.        , 1.        ]),\n",
       " array([0.02941176, 0.17647059, 0.29411765, 0.44117647, 0.5       ,\n",
       "        0.61764706, 0.70588235, 0.79411765, 0.85294118, 0.88235294,\n",
       "        0.88235294, 0.88235294, 0.88235294, 0.88235294, 0.91176471,\n",
       "        0.91176471, 1.        , 1.        , 1.        , 1.        ]),\n",
       " array([0.02941176, 0.17647059, 0.23529412, 0.41176471, 0.47058824,\n",
       "        0.61764706, 0.70588235, 0.79411765, 0.85294118, 0.88235294,\n",
       "        0.91176471, 0.91176471, 0.97058824, 0.97058824, 0.97058824,\n",
       "        1.        , 1.        , 1.        , 1.        , 1.        ])]"
      ]
     },
     "execution_count": 39,
     "metadata": {},
     "output_type": "execute_result"
    }
   ],
   "source": [
    "tpr_svm"
   ]
  },
  {
   "cell_type": "markdown",
   "metadata": {
    "heading_collapsed": true
   },
   "source": [
    "## New bar chart"
   ]
  },
  {
   "cell_type": "code",
   "execution_count": 12,
   "metadata": {
    "collapsed": false,
    "hidden": true
   },
   "outputs": [
    {
     "data": {
      "image/png": "[encoded data removed]",
      "text/plain": [
       "<matplotlib.figure.Figure at 0x7f3a61bb0be0>"
      ]
     },
     "metadata": {},
     "output_type": "display_data"
    }
   ],
   "source": [
    "import seaborn as sns\n",
    "sns.set_style(\"white\")\n",
    "mean_precision_w2v = [0.877, 0.85, 0.731, 0.82, 0.898]\n",
    "mean_recall_w2v = [0.863, 0.823, 0.747, 0.813, 0.883]\n",
    "mean_f1_w2v = [0.869, 0.834, 0.736, 0.814, 0.889]\n",
    "mean_precision_kmer = [0.875, 0.864, 0.755, 0.833]\n",
    "mean_recall_kmer = [0.808, 0.837, 0.719, 0.773]\n",
    "mean_f1_kmer = [0.838, 0.846, 0.733, 0.799]\n",
    "\n",
    "mean_svm = [0.877, 0.863, 0.869,0.875,0.808,0.838]\n",
    "mean_logreg = [0.85, 0.823, 0.834,0.864, 0.837, 0.845]\n",
    "mean_dt = [0.731, 0.747, 0.736,0.755, 0.719, 0.733]\n",
    "mean_rf = [0.82, 0.813, 0.814,0.833, 0.773, 0.799]\n",
    "mean_rnn = [0.898, 0.883, 0.889]\n",
    "mean_blast = [0.972, 0.506, 0.663]\n",
    "\n",
    "\n",
    "mean_svm_error = [0.001, 0.001, 0.0009, 0.001, 0.002, 0.001]\n",
    "mean_logreg_error = [0.001, 0.001, 0.0009, 0.002, 0.002, 0.001]\n",
    "mean_dt_error = [0.002, 0.003, 0.002, 0.015, 0.002, 0.001]\n",
    "mean_rf_error = [0.001, 0.002, 0.001, 0.002, 0.001, 0.001]\n",
    "mean_rnn_error = [0.003, 0.003, 0.001]\n",
    "mean_blast_error = [0.0006, 0.002, 0.002]\n",
    "\n",
    "plt.rc('ytick',labelsize=22)\n",
    "plt.rc('xtick',labelsize=24)\n",
    "algos = ['SVM', 'Logistic Regression', 'Decision Tree', 'Random Forest', 'Bidirec RNN', 'BLAST']\n",
    "pos = list(range(len(mean_svm))) \n",
    "width = 0.13 \n",
    "\n",
    "fig, ax = plt.subplots()\n",
    "fig.set_size_inches(31.92, 23)\n",
    "plt.tick_params(size = 10)\n",
    "#plt.rc('xtick',labelsize=18)\n",
    "plt.bar(pos, mean_svm, width, yerr = mean_svm_error, color = '#1b9e77')\n",
    "plt.bar([p + width for p in pos], mean_logreg, width, yerr = mean_logreg_error, color = '#d95f02') \n",
    "plt.bar([p + 2*width for p in pos], mean_dt, width, yerr = mean_dt_error, color = '#4daf4a') \n",
    "plt.bar([p + 3*width for p in pos], mean_rf, width, yerr = mean_rf_error, color = '#7570b3') \n",
    "plt.bar([p + 4*width for p in list(range(3))], mean_rnn, width, yerr = mean_rnn_error, color = '#e7298a') \n",
    "plt.bar([p + 5*width for p in list(range(3,6))], mean_blast, width, yerr = mean_blast_error, color = 'lightcoral') \n",
    "\n",
    "# plt.scatter(pos, mean_svm_w2v,  s=90)\n",
    "# plt.scatter([p + width for p in pos], mean_logreg_w2v, s=100) \n",
    "# plt.scatter([p + 2*width for p in pos], mean_dt_w2v, s=100) \n",
    "# plt.scatter([p + 3*width for p in pos], mean_rf_w2v,  s=100) \n",
    "# plt.scatter([p + 4*width for p in pos], mean_rnn_w2v,   s=100) \n",
    "\n",
    "# Set the y axis label\n",
    "ax.set_ylabel('Score',fontsize = 24)\n",
    "ax.spines[\"top\"].set_visible(False)  \n",
    "ax.spines[\"right\"].set_visible(False)\n",
    "ax.tick_params(axis = 'x', size = 0)\n",
    "plt.xticks([0.25,1.2,2.2,3.2,4.2,5.2], ('Precision-w2v', 'Recall-w2v', 'F1-w2v','Precision-baseline', \n",
    "                                        'Recall-baseline', \n",
    "                                        'F1-baseline'))\n",
    "#plt.xticks()\n",
    "# plt.bar([p + 5*width/2 for p in pos], mean_svm_kmer, width/2)\n",
    "# plt.bar([p + 6*width/2 for p in pos], mean_logreg_kmer, width/2) \n",
    "# plt.bar([p + 7*width/2 for p in pos], mean_dt_kmer, width/2) \n",
    "# plt.bar([p + 8*width/2 for p in pos], mean_rf_kmer, width/2) \n",
    "# Set the chart's title\n",
    "#ax.set_title('Test Subject Scores')\n",
    "\n",
    "# Set the position of the x ticks\n",
    "#ax.set_xticks([p + 1.5 * width for p in pos])\n",
    "\n",
    "# Set the labels for the x ticks\n",
    "#ax.set_xticklabels(df['first_name'])\n",
    "\n",
    "# Setting the x-axis and y-axis limits\n",
    "#plt.xlim([0, 1.02])\n",
    "plt.ylim(0.0,1.02)\n",
    "#plt.ylim([0, max(df['pre_score'] + df['mid_score'] + df['post_score'])] )\n",
    "\n",
    "# Adding the legend and showing the plot\n",
    "plt.legend(algos, loc='upper right', fontsize = 24)\n",
    "ax.figure.savefig('bar_all.eps', format = 'eps', dpi = 1200, bbox_inches=\"tight\")\n",
    "ax.figure.savefig('bar_all.png', format = 'png', dpi = 1200, bbox_inches=\"tight\")\n",
    "ax.figure.savefig('bar_all.pdf', format = 'pdf', dpi = 1200, bbox_inches=\"tight\")\n",
    "#plt.grid()\n",
    "#plt.show()"
   ]
  },
  {
   "cell_type": "markdown",
   "metadata": {
    "collapsed": true,
    "heading_collapsed": true
   },
   "source": [
    "## Creating cytoscape network file"
   ]
  },
  {
   "cell_type": "code",
   "execution_count": 190,
   "metadata": {
    "collapsed": false,
    "hidden": true
   },
   "outputs": [
    {
     "name": "stdout",
     "output_type": "stream",
     "text": [
      "185\n"
     ]
    }
   ],
   "source": [
    "result_handle = open(\"positive_bacteriocin_less_than_30_blast_result_agianst_itself.xml\", 'r')\n",
    "blast_records = NCBIXML.parse(result_handle)\n",
    "\n",
    "out_handle = open('connections_file', 'w')\n",
    "connections_dict = defaultdict(list)\n",
    "for i, blast_record in enumerate(blast_records):\n",
    "    for j, alignment in enumerate(blast_record.alignments): \n",
    "        for hsp in alignment.hsps:\n",
    "            query_id = blast_record.query.split(\"|\")[0]\n",
    "            hit_id = alignment.hit_def.split(\"|\")[0]\n",
    "            query_id = '_'.join(query_id.split('.'))\n",
    "            hit_id = '_'.join(hit_id.split('.'))\n",
    "            if hsp.identities >= 35 and query_id != hit_id:\n",
    "                #print (blast_record.query.split(\"|\")[0])\n",
    "                #print (alignment.hit_def.split(\"|\")[0])\n",
    "                connections_dict[query_id].append(hit_id)\n",
    "                identity.append(hsp.identities)\n",
    "                \n",
    "                out_handle.write('%s %s\\n' % (query_id, hit_id))\n",
    "                #break\n",
    "\n",
    "print (len(connections_dict))\n",
    "out_handle.close()"
   ]
  },
  {
   "cell_type": "code",
   "execution_count": 33,
   "metadata": {
    "collapsed": false,
    "hidden": true
   },
   "outputs": [
    {
     "name": "stdout",
     "output_type": "stream",
     "text": [
      "346\n"
     ]
    }
   ],
   "source": [
    "# cluster_size_dict = defaultdict(list)\n",
    "# for index, record in enumerate(SeqIO.parse('positive_bacteriocin_less_than_30.fa', 'fasta')):\n",
    "#     tok = record.description.split('|')[0]\n",
    "#     tok = '_'.join(tok.split('.'))\n",
    "#     cluster_size_dict[tok] = 1\n",
    "# print (len(cluster_size_dict))"
   ]
  },
  {
   "cell_type": "code",
   "execution_count": 206,
   "metadata": {
    "collapsed": false,
    "hidden": true
   },
   "outputs": [
    {
     "name": "stdout",
     "output_type": "stream",
     "text": [
      "187\n"
     ]
    }
   ],
   "source": [
    "cluster_dict = defaultdict(list)\n",
    "#cluster_size_dict = defaultdict(int)\n",
    "with open('connections_file', 'r') as in_handle:\n",
    "    for line in in_handle:\n",
    "        tok = line[0:-1].split(' ')\n",
    "        #print (tok)\n",
    "        if tok[1] not in cluster_dict[tok[0]] and tok[0] not in cluster_dict[tok[1]]:\n",
    "            #cluster_size_dict[tok[0]] += 1\n",
    "            cluster_dict[tok[0]].append(tok[1])\n",
    "        #break\n",
    "print (len(cluster_dict))"
   ]
  },
  {
   "cell_type": "code",
   "execution_count": 193,
   "metadata": {
    "collapsed": false,
    "hidden": true,
    "scrolled": true
   },
   "outputs": [
    {
     "name": "stdout",
     "output_type": "stream",
     "text": [
      "defaultdict(<class 'list'>, {'5_1': ['120_1'], '120_1': [], '6_1': ['119_1'], '119_1': [], '8_1': ['9_1'], '9_1': [], '10_1': ['130_1', '59_1'], '130_1': [], '59_1': ['130_1'], '11_1': ['96_1'], '96_1': [], '12_1': ['13_1', '14_1'], '13_1': ['14_1'], '14_1': ['100_1', '99_1'], '100_1': [], '99_1': ['100_1'], '17_1': ['40_1'], '40_1': [], '25_1': ['31_1', '128_1', '30_1'], '31_1': ['128_1'], '128_1': [], '30_1': ['128_1', '31_1'], '27_1': ['34_1'], '34_1': [], '28_1': ['29_1'], '29_1': [], '36_1': ['37_1'], '37_1': [], '39_1': ['173_2'], '173_2': [], '47_1': ['122_1'], '122_1': [], '49_1': ['17_2', '141_1'], '17_2': [], '141_1': [], '56_1': ['57_1'], '57_1': [], '58_1': ['125_1', '126_1', '108_1'], '125_1': ['126_1'], '126_1': [], '108_1': ['125_1', '126_1'], '60_1': ['153_2'], '153_2': [], '66_1': ['151_2'], '151_2': [], '68_1': ['70_1'], '70_1': [], '71_1': ['140_1', '87_1', '86_1', '139_1'], '140_1': [], '87_1': ['140_1', '139_1'], '86_1': ['87_1', '140_1', '139_1'], '139_1': ['140_1'], '77_1': ['81_1', '78_1', '79_1', '107_1', '80_1'], '81_1': ['107_1'], '78_1': ['81_1', '79_1', '107_1', '80_1'], '79_1': ['81_1', '107_1', '80_1'], '107_1': [], '80_1': ['81_1'], '89_1': ['189_2'], '189_2': [], '90_1': ['188_2'], '188_2': [], '92_1': ['93_1'], '93_1': [], '94_1': ['109_1', '95_1', '103_1', '102_1', '106_1', '105_1', '104_1'], '109_1': [], '95_1': ['109_1', '103_1', '102_1', '106_1', '105_1', '104_1'], '103_1': ['106_1', '105_1', '109_1', '104_1'], '102_1': ['106_1', '103_1', '105_1', '104_1', '109_1'], '106_1': ['109_1'], '105_1': ['106_1', '109_1'], '104_1': ['105_1', '106_1', '109_1'], '97_1': ['131_1'], '131_1': [], '150_1': ['151_1'], '151_1': [], '153_1': ['158_1', '235_2'], '158_1': ['235_2'], '235_2': [], '154_1': ['155_1'], '155_1': [], '1_2': ['217_2'], '217_2': [], '10_2': ['11_2'], '11_2': [], '15_2': ['111_2', '22_2', '16_2', '98_2'], '111_2': [], '22_2': ['111_2', '98_2'], '16_2': ['111_2', '22_2', '98_2'], '98_2': ['111_2'], '18_2': ['27_2', '224_2', '222_2'], '27_2': ['224_2', '222_2'], '224_2': [], '222_2': ['224_2'], '23_2': ['212_2', '211_2'], '212_2': [], '211_2': ['212_2'], '24_2': ['69_2', '68_2'], '69_2': ['84_2', '80_2'], '68_2': ['69_2'], '28_2': ['39_2', '40_2'], '39_2': ['40_2'], '40_2': [], '29_2': ['40_2'], '30_2': ['33_2', '31_2', '32_2', '196_2', '200_2', '202_2'], '33_2': ['196_2', '200_2', '202_2'], '31_2': ['32_2', '33_2', '196_2', '200_2', '202_2'], '32_2': ['33_2', '196_2', '200_2', '202_2'], '196_2': ['202_2', '200_2', '197_2'], '200_2': ['202_2'], '202_2': [], '34_2': ['36_2', '37_2', '35_2'], '36_2': ['37_2'], '37_2': [], '35_2': ['37_2', '36_2'], '42_2': ['43_2', '44_2', '201_2'], '43_2': ['44_2'], '44_2': [], '201_2': [], '45_2': ['91_2', '224_2', '222_2', '215_2'], '91_2': ['224_2', '222_2'], '215_2': ['224_2', '222_2'], '46_2': ['93_2'], '93_2': [], '49_2': ['85_2'], '85_2': [], '51_2': ['208_2', '60_2'], '208_2': [], '60_2': ['208_2', '94_2'], '56_2': ['57_2', '166_2', '163_2', '167_2', '204_2', '171_2', '212_2', '86_2', '211_2'], '57_2': ['166_2', '163_2', '167_2', '204_2', '171_2', '212_2', '86_2', '211_2'], '166_2': ['167_2', '204_2', '171_2', '212_2', '211_2'], '163_2': ['166_2', '167_2', '204_2', '171_2', '212_2', '211_2'], '167_2': ['204_2'], '204_2': [], '171_2': ['210_2', '209_2'], '86_2': ['160_2', '161_2', '169_2', '207_2', '159_2', '101_2', '212_2', '211_2', '163_2', '166_2', '145_2'], '58_2': ['59_2'], '59_2': [], '94_2': ['103_2', '95_2', '208_2', '102_2'], '84_2': [], '80_2': ['84_2'], '73_2': ['74_2'], '74_2': [], '75_2': ['76_2', '85_2'], '76_2': ['85_2'], '78_2': ['94_2', '95_2', '103_2'], '95_2': [], '103_2': [], '81_2': ['82_2'], '82_2': [], '160_2': ['161_2', '169_2', '207_2', '212_2', '211_2'], '161_2': ['207_2', '169_2'], '169_2': ['207_2', '212_2', '211_2'], '207_2': [], '159_2': ['160_2', '161_2', '169_2'], '101_2': ['160_2', '161_2', '159_2', '169_2'], '145_2': ['160_2', '161_2'], '89_2': ['157_2'], '157_2': [], '90_2': ['158_2'], '158_2': [], '102_2': [], '108_2': ['116_2', '196_2', '200_2', '202_2'], '116_2': [], '118_2': ['119_2'], '119_2': [], '130_2': ['205_2', '131_2'], '205_2': [], '131_2': ['205_2'], '137_2': ['139_2', '148_2'], '139_2': ['148_2'], '148_2': ['150_2'], '150_2': [], '155_2': ['156_2'], '156_2': [], '210_2': [], '209_2': ['210_2'], '178_2': ['190_2'], '190_2': [], '197_2': ['202_2', '200_2'], '198_2': ['199_2'], '199_2': [], '213_2': ['214_2'], '214_2': [], '228_2': ['229_2'], '229_2': []})\n"
     ]
    }
   ],
   "source": [
    "print (cluster_dict)"
   ]
  },
  {
   "cell_type": "code",
   "execution_count": 204,
   "metadata": {
    "collapsed": false,
    "hidden": true,
    "scrolled": true
   },
   "outputs": [
    {
     "name": "stdout",
     "output_type": "stream",
     "text": [
      "123\n",
      "defaultdict(<class 'list'>, {'5_1': ['120_1'], '6_1': ['119_1'], '8_1': ['9_1'], '10_1': ['130_1', '59_1'], '59_1': ['130_1'], '11_1': ['96_1'], '12_1': ['13_1', '14_1'], '13_1': ['14_1'], '14_1': ['100_1', '99_1'], '99_1': ['100_1'], '17_1': ['40_1'], '25_1': ['31_1', '128_1', '30_1'], '31_1': ['128_1'], '30_1': ['128_1', '31_1'], '27_1': ['34_1'], '28_1': ['29_1'], '36_1': ['37_1'], '39_1': ['173_2'], '47_1': ['122_1'], '49_1': ['17_2', '141_1'], '56_1': ['57_1'], '58_1': ['125_1', '126_1', '108_1'], '125_1': ['126_1'], '108_1': ['125_1', '126_1'], '60_1': ['153_2'], '66_1': ['151_2'], '68_1': ['70_1'], '71_1': ['140_1', '87_1', '86_1', '139_1'], '87_1': ['140_1', '139_1'], '86_1': ['87_1', '140_1', '139_1'], '139_1': ['140_1'], '77_1': ['81_1', '78_1', '79_1', '107_1', '80_1'], '81_1': ['107_1'], '78_1': ['81_1', '79_1', '107_1', '80_1'], '79_1': ['81_1', '107_1', '80_1'], '80_1': ['81_1'], '89_1': ['189_2'], '90_1': ['188_2'], '92_1': ['93_1'], '94_1': ['109_1', '95_1', '103_1', '102_1', '106_1', '105_1', '104_1'], '95_1': ['109_1', '103_1', '102_1', '106_1', '105_1', '104_1'], '103_1': ['106_1', '105_1', '109_1', '104_1'], '102_1': ['106_1', '103_1', '105_1', '104_1', '109_1'], '106_1': ['109_1'], '105_1': ['106_1', '109_1'], '104_1': ['105_1', '106_1', '109_1'], '97_1': ['131_1'], '150_1': ['151_1'], '153_1': ['158_1', '235_2'], '158_1': ['235_2'], '154_1': ['155_1'], '1_2': ['217_2'], '10_2': ['11_2'], '15_2': ['111_2', '22_2', '16_2', '98_2'], '22_2': ['111_2', '98_2'], '16_2': ['111_2', '22_2', '98_2'], '98_2': ['111_2'], '18_2': ['27_2', '224_2', '222_2'], '27_2': ['224_2', '222_2'], '222_2': ['224_2'], '23_2': ['212_2', '211_2'], '211_2': ['212_2'], '24_2': ['69_2', '68_2'], '69_2': ['84_2', '80_2'], '68_2': ['69_2'], '28_2': ['39_2', '40_2'], '39_2': ['40_2'], '29_2': ['40_2'], '30_2': ['33_2', '31_2', '32_2', '196_2', '200_2', '202_2'], '33_2': ['196_2', '200_2', '202_2'], '31_2': ['32_2', '33_2', '196_2', '200_2', '202_2'], '32_2': ['33_2', '196_2', '200_2', '202_2'], '196_2': ['202_2', '200_2', '197_2'], '200_2': ['202_2'], '34_2': ['36_2', '37_2', '35_2'], '36_2': ['37_2'], '35_2': ['37_2', '36_2'], '42_2': ['43_2', '44_2', '201_2'], '43_2': ['44_2'], '45_2': ['91_2', '224_2', '222_2', '215_2'], '91_2': ['224_2', '222_2'], '215_2': ['224_2', '222_2'], '46_2': ['93_2'], '49_2': ['85_2'], '51_2': ['208_2', '60_2'], '60_2': ['208_2', '94_2'], '56_2': ['57_2', '166_2', '163_2', '167_2', '204_2', '171_2', '212_2', '86_2', '211_2'], '57_2': ['166_2', '163_2', '167_2', '204_2', '171_2', '212_2', '86_2', '211_2'], '166_2': ['167_2', '204_2', '171_2', '212_2', '211_2'], '163_2': ['166_2', '167_2', '204_2', '171_2', '212_2', '211_2'], '167_2': ['204_2'], '171_2': ['210_2', '209_2'], '86_2': ['160_2', '161_2', '169_2', '207_2', '159_2', '101_2', '212_2', '211_2', '163_2', '166_2', '145_2'], '58_2': ['59_2'], '94_2': ['103_2', '95_2', '208_2', '102_2'], '80_2': ['84_2'], '73_2': ['74_2'], '75_2': ['76_2', '85_2'], '76_2': ['85_2'], '78_2': ['94_2', '95_2', '103_2'], '81_2': ['82_2'], '160_2': ['161_2', '169_2', '207_2', '212_2', '211_2'], '161_2': ['207_2', '169_2'], '169_2': ['207_2', '212_2', '211_2'], '159_2': ['160_2', '161_2', '169_2'], '101_2': ['160_2', '161_2', '159_2', '169_2'], '145_2': ['160_2', '161_2'], '89_2': ['157_2'], '90_2': ['158_2'], '108_2': ['116_2', '196_2', '200_2', '202_2'], '118_2': ['119_2'], '130_2': ['205_2', '131_2'], '131_2': ['205_2'], '137_2': ['139_2', '148_2'], '139_2': ['148_2'], '148_2': ['150_2'], '155_2': ['156_2'], '209_2': ['210_2'], '178_2': ['190_2'], '197_2': ['202_2', '200_2'], '198_2': ['199_2'], '213_2': ['214_2'], '228_2': ['229_2']})\n"
     ]
    }
   ],
   "source": [
    "cluster_dict_copy = defaultdict(list)\n",
    "for key,val in cluster_dict.items():\n",
    "    if val != []:\n",
    "        cluster_dict_copy[key] = val\n",
    "print (len(cluster_dict_copy))\n",
    "print (cluster_dict_copy)"
   ]
  },
  {
   "cell_type": "code",
   "execution_count": 191,
   "metadata": {
    "collapsed": false,
    "hidden": true,
    "scrolled": true
   },
   "outputs": [
    {
     "name": "stdout",
     "output_type": "stream",
     "text": [
      "defaultdict(<class 'list'>, {'5_1': ['120_1'], '6_1': ['119_1'], '8_1': ['9_1'], '9_1': ['8_1'], '10_1': ['130_1', '59_1'], '11_1': ['96_1'], '12_1': ['13_1', '14_1'], '13_1': ['12_1', '14_1'], '14_1': ['13_1', '12_1', '100_1', '99_1'], '17_1': ['40_1'], '25_1': ['31_1', '128_1', '30_1'], '27_1': ['34_1'], '28_1': ['29_1'], '29_1': ['28_1'], '30_1': ['128_1', '31_1', '25_1'], '31_1': ['25_1', '128_1', '30_1'], '34_1': ['27_1'], '36_1': ['37_1'], '37_1': ['36_1'], '39_1': ['173_2'], '40_1': ['17_1'], '47_1': ['122_1'], '49_1': ['17_2', '141_1'], '56_1': ['57_1'], '58_1': ['125_1', '126_1', '108_1'], '59_1': ['130_1', '10_1'], '60_1': ['153_2'], '66_1': ['151_2'], '68_1': ['70_1'], '70_1': ['68_1'], '71_1': ['140_1', '87_1', '86_1', '139_1'], '77_1': ['81_1', '78_1', '79_1', '107_1', '80_1'], '78_1': ['81_1', '77_1', '79_1', '107_1', '80_1'], '79_1': ['78_1', '81_1', '77_1', '107_1', '80_1'], '80_1': ['81_1', '78_1', '77_1', '79_1'], '81_1': ['78_1', '77_1', '79_1', '107_1', '80_1'], '86_1': ['87_1', '140_1', '139_1', '71_1'], '87_1': ['140_1', '86_1', '139_1', '71_1'], '89_1': ['189_2'], '90_1': ['188_2'], '92_1': ['93_1'], '93_1': ['92_1'], '94_1': ['109_1', '95_1', '103_1', '102_1', '106_1', '105_1', '104_1'], '95_1': ['94_1', '109_1', '103_1', '102_1', '106_1', '105_1', '104_1'], '96_1': ['11_1'], '97_1': ['131_1'], '99_1': ['100_1', '14_1'], '100_1': ['99_1', '14_1'], '102_1': ['106_1', '103_1', '105_1', '104_1', '94_1', '95_1', '109_1'], '103_1': ['102_1', '94_1', '106_1', '95_1', '105_1', '109_1', '104_1'], '104_1': ['105_1', '106_1', '102_1', '103_1', '94_1', '95_1', '109_1'], '105_1': ['106_1', '104_1', '102_1', '103_1', '94_1', '95_1', '109_1'], '106_1': ['105_1', '104_1', '102_1', '103_1', '94_1', '95_1', '109_1'], '107_1': ['79_1', '81_1', '78_1', '77_1'], '108_1': ['58_1', '125_1', '126_1'], '109_1': ['94_1', '95_1', '103_1', '102_1', '106_1', '104_1', '105_1'], '119_1': ['6_1'], '120_1': ['5_1'], '122_1': ['47_1'], '125_1': ['126_1', '58_1', '108_1'], '126_1': ['125_1', '58_1', '108_1'], '128_1': ['25_1', '31_1', '30_1'], '130_1': ['59_1', '10_1'], '131_1': ['97_1'], '139_1': ['86_1', '87_1', '140_1', '71_1'], '140_1': ['87_1', '86_1', '139_1', '71_1'], '141_1': ['49_1'], '150_1': ['151_1'], '151_1': ['150_1'], '153_1': ['158_1', '235_2'], '154_1': ['155_1'], '155_1': ['154_1'], '158_1': ['153_1', '235_2'], '1_2': ['217_2'], '10_2': ['11_2'], '11_2': ['10_2'], '15_2': ['111_2', '22_2', '16_2', '98_2'], '16_2': ['111_2', '22_2', '15_2', '98_2'], '17_2': ['49_1'], '18_2': ['27_2', '224_2', '222_2'], '22_2': ['111_2', '15_2', '16_2', '98_2'], '23_2': ['212_2', '211_2'], '24_2': ['69_2', '68_2'], '27_2': ['224_2', '222_2', '18_2'], '28_2': ['39_2', '40_2'], '29_2': ['40_2'], '30_2': ['33_2', '31_2', '32_2', '196_2', '200_2', '202_2'], '31_2': ['32_2', '33_2', '30_2', '196_2', '200_2', '202_2'], '32_2': ['31_2', '33_2', '30_2', '196_2', '200_2', '202_2'], '33_2': ['30_2', '31_2', '32_2', '196_2', '200_2', '202_2'], '34_2': ['36_2', '37_2', '35_2'], '35_2': ['34_2', '37_2', '36_2'], '36_2': ['34_2', '37_2', '35_2'], '37_2': ['34_2', '35_2', '36_2'], '39_2': ['28_2', '40_2'], '40_2': ['39_2', '29_2', '28_2'], '42_2': ['43_2', '44_2', '201_2'], '43_2': ['42_2', '44_2'], '44_2': ['43_2', '42_2'], '45_2': ['91_2', '224_2', '222_2', '215_2'], '46_2': ['93_2'], '49_2': ['85_2'], '51_2': ['208_2', '60_2'], '56_2': ['57_2', '166_2', '163_2', '167_2', '204_2', '171_2', '212_2', '86_2', '211_2'], '57_2': ['56_2', '166_2', '163_2', '167_2', '204_2', '171_2', '212_2', '86_2', '211_2'], '58_2': ['59_2'], '59_2': ['58_2'], '60_2': ['208_2', '51_2', '94_2'], '68_2': ['69_2', '24_2'], '69_2': ['68_2', '24_2', '84_2', '80_2'], '73_2': ['74_2'], '74_2': ['73_2'], '75_2': ['76_2', '85_2'], '76_2': ['75_2', '85_2'], '78_2': ['94_2', '95_2', '103_2'], '80_2': ['84_2', '69_2'], '81_2': ['82_2'], '82_2': ['81_2'], '84_2': ['80_2', '69_2'], '85_2': ['75_2', '76_2', '49_2'], '86_2': ['160_2', '161_2', '169_2', '207_2', '159_2', '101_2', '212_2', '211_2', '163_2', '57_2', '56_2', '166_2', '145_2'], '89_2': ['157_2'], '90_2': ['158_2'], '91_2': ['45_2', '224_2', '222_2'], '93_2': ['46_2'], '94_2': ['78_2', '103_2', '95_2', '208_2', '60_2', '102_2'], '95_2': ['78_2', '94_2'], '98_2': ['16_2', '111_2', '22_2', '15_2'], '101_2': ['160_2', '86_2', '161_2', '159_2', '169_2'], '102_2': ['94_2'], '103_2': ['94_2', '78_2'], '108_2': ['116_2', '196_2', '200_2', '202_2'], '111_2': ['22_2', '15_2', '16_2', '98_2'], '116_2': ['108_2'], '118_2': ['119_2'], '119_2': ['118_2'], '130_2': ['205_2', '131_2'], '131_2': ['205_2', '130_2'], '137_2': ['139_2', '148_2'], '139_2': ['137_2', '148_2'], '145_2': ['160_2', '86_2', '161_2'], '148_2': ['137_2', '139_2', '150_2'], '150_2': ['148_2'], '151_2': ['66_1'], '153_2': ['60_1'], '155_2': ['156_2'], '156_2': ['155_2'], '157_2': ['89_2'], '158_2': ['90_2'], '159_2': ['160_2', '86_2', '161_2', '169_2', '101_2'], '160_2': ['86_2', '161_2', '169_2', '207_2', '159_2', '101_2', '212_2', '211_2', '145_2'], '161_2': ['160_2', '86_2', '207_2', '159_2', '169_2', '101_2', '145_2'], '163_2': ['166_2', '57_2', '56_2', '167_2', '204_2', '171_2', '212_2', '211_2', '86_2'], '166_2': ['57_2', '56_2', '163_2', '167_2', '204_2', '171_2', '212_2', '86_2', '211_2'], '167_2': ['166_2', '163_2', '57_2', '56_2', '204_2'], '169_2': ['160_2', '207_2', '86_2', '212_2', '161_2', '211_2', '159_2', '101_2'], '171_2': ['166_2', '57_2', '56_2', '163_2', '210_2', '209_2'], '173_2': ['39_1'], '178_2': ['190_2'], '188_2': ['90_1'], '189_2': ['89_1'], '190_2': ['178_2'], '196_2': ['202_2', '200_2', '197_2', '31_2', '32_2', '30_2', '33_2', '108_2'], '197_2': ['196_2', '202_2', '200_2'], '198_2': ['199_2'], '199_2': ['198_2'], '200_2': ['196_2', '202_2', '197_2', '31_2', '30_2', '32_2', '33_2', '108_2'], '201_2': ['42_2'], '202_2': ['196_2', '200_2', '197_2', '31_2', '30_2', '32_2', '33_2', '108_2'], '204_2': ['166_2', '163_2', '57_2', '56_2', '167_2'], '205_2': ['131_2', '130_2'], '207_2': ['169_2', '160_2', '86_2', '161_2'], '208_2': ['60_2', '51_2', '94_2'], '209_2': ['210_2', '171_2'], '210_2': ['209_2', '171_2'], '211_2': ['212_2', '169_2', '160_2', '86_2', '163_2', '57_2', '56_2', '166_2'], '212_2': ['211_2', '169_2', '160_2', '86_2', '163_2', '57_2', '56_2', '166_2'], '213_2': ['214_2'], '214_2': ['213_2'], '215_2': ['45_2', '224_2', '222_2'], '217_2': ['1_2'], '222_2': ['224_2', '91_2', '45_2', '27_2'], '224_2': ['222_2', '91_2', '45_2', '27_2'], '228_2': ['229_2'], '229_2': ['228_2']})\n"
     ]
    }
   ],
   "source": [
    "print (connections_dict)"
   ]
  },
  {
   "cell_type": "code",
   "execution_count": 239,
   "metadata": {
    "collapsed": false,
    "hidden": true
   },
   "outputs": [
    {
     "name": "stdout",
     "output_type": "stream",
     "text": [
      "defaultdict(<class 'int'>, {})\n",
      "5_1 120_1\n",
      "6_1 119_1\n",
      "8_1 9_1\n",
      "10_1 130_1\n",
      "10_1 59_1\n",
      "11_1 96_1\n",
      "12_1 13_1\n",
      "12_1 14_1\n",
      "hello\n",
      "Previous 14_1 100_1\n",
      "hello\n",
      "Previous 14_1 99_1\n",
      "17_1 40_1\n",
      "25_1 31_1\n",
      "25_1 128_1\n",
      "25_1 30_1\n",
      "27_1 34_1\n",
      "28_1 29_1\n",
      "36_1 37_1\n",
      "39_1 173_2\n",
      "47_1 122_1\n",
      "49_1 17_2\n",
      "49_1 141_1\n",
      "56_1 57_1\n",
      "58_1 125_1\n",
      "58_1 126_1\n",
      "58_1 108_1\n",
      "60_1 153_2\n",
      "66_1 151_2\n",
      "68_1 70_1\n",
      "71_1 140_1\n",
      "71_1 87_1\n",
      "71_1 86_1\n",
      "71_1 139_1\n",
      "77_1 81_1\n",
      "77_1 78_1\n",
      "77_1 79_1\n",
      "77_1 107_1\n",
      "77_1 80_1\n",
      "89_1 189_2\n",
      "90_1 188_2\n",
      "92_1 93_1\n",
      "94_1 109_1\n",
      "94_1 95_1\n",
      "94_1 103_1\n",
      "94_1 102_1\n",
      "94_1 106_1\n",
      "94_1 105_1\n",
      "94_1 104_1\n",
      "97_1 131_1\n",
      "150_1 151_1\n",
      "153_1 158_1\n",
      "153_1 235_2\n",
      "154_1 155_1\n",
      "1_2 217_2\n",
      "10_2 11_2\n",
      "15_2 111_2\n",
      "15_2 22_2\n",
      "15_2 16_2\n",
      "15_2 98_2\n",
      "18_2 27_2\n",
      "18_2 224_2\n",
      "18_2 222_2\n",
      "23_2 212_2\n",
      "23_2 211_2\n",
      "24_2 69_2\n",
      "24_2 68_2\n",
      "28_2 39_2\n",
      "28_2 40_2\n",
      "30_2 33_2\n",
      "30_2 31_2\n",
      "30_2 32_2\n",
      "30_2 196_2\n",
      "30_2 200_2\n",
      "30_2 202_2\n",
      "34_2 36_2\n",
      "34_2 37_2\n",
      "34_2 35_2\n",
      "42_2 43_2\n",
      "42_2 44_2\n",
      "42_2 201_2\n",
      "45_2 91_2\n",
      "45_2 215_2\n",
      "46_2 93_2\n",
      "49_2 85_2\n",
      "51_2 208_2\n",
      "51_2 60_2\n",
      "56_2 57_2\n",
      "56_2 166_2\n",
      "56_2 163_2\n",
      "56_2 167_2\n",
      "56_2 204_2\n",
      "56_2 171_2\n",
      "56_2 86_2\n",
      "58_2 59_2\n",
      "hello\n",
      "Previous 60_2 94_2\n",
      "hello\n",
      "Previous 69_2 84_2\n",
      "hello\n",
      "Previous 69_2 80_2\n",
      "73_2 74_2\n",
      "75_2 76_2\n",
      "78_2 95_2\n",
      "78_2 103_2\n",
      "81_2 82_2\n",
      "hello\n",
      "Previous 86_2 160_2\n",
      "hello\n",
      "Previous 86_2 161_2\n",
      "hello\n",
      "Previous 86_2 169_2\n",
      "hello\n",
      "Previous 86_2 207_2\n",
      "hello\n",
      "Previous 86_2 159_2\n",
      "hello\n",
      "Previous 86_2 101_2\n",
      "hello\n",
      "Previous 86_2 145_2\n",
      "89_2 157_2\n",
      "90_2 158_2\n",
      "hello\n",
      "Previous 94_2 102_2\n",
      "108_2 116_2\n",
      "118_2 119_2\n",
      "130_2 205_2\n",
      "130_2 131_2\n",
      "137_2 139_2\n",
      "137_2 148_2\n",
      "hello\n",
      "Previous 148_2 150_2\n",
      "155_2 156_2\n",
      "hello\n",
      "Previous 171_2 210_2\n",
      "hello\n",
      "Previous 171_2 209_2\n",
      "178_2 190_2\n",
      "hello\n",
      "Previous 196_2 197_2\n",
      "198_2 199_2\n",
      "213_2 214_2\n",
      "228_2 229_2\n",
      "62\n",
      "187\n",
      "187\n",
      "187\n",
      "defaultdict(<class 'int'>, {'5_1': 2, '6_1': 2, '8_1': 2, '10_1': 3, '11_1': 2, '12_1': 5, '17_1': 2, '25_1': 4, '27_1': 2, '28_1': 2, '36_1': 2, '39_1': 2, '47_1': 2, '49_1': 3, '56_1': 2, '58_1': 4, '60_1': 2, '66_1': 2, '68_1': 2, '71_1': 5, '77_1': 6, '89_1': 2, '90_1': 2, '92_1': 2, '94_1': 8, '97_1': 2, '150_1': 2, '153_1': 3, '154_1': 2, '1_2': 2, '10_2': 2, '15_2': 5, '18_2': 4, '23_2': 3, '24_2': 5, '28_2': 3, '29_2': 1, '30_2': 8, '34_2': 4, '42_2': 4, '45_2': 3, '46_2': 2, '49_2': 2, '51_2': 4, '56_2': 17, '58_2': 2, '73_2': 2, '75_2': 2, '78_2': 3, '81_2': 2, '89_2': 2, '90_2': 2, '60_2': 1, '108_2': 2, '118_2': 2, '130_2': 3, '137_2': 4, '155_2': 2, '178_2': 2, '198_2': 2, '213_2': 2, '228_2': 2})\n",
      "['5_1', '120_1', '6_1', '119_1', '8_1', '9_1', '10_1', '130_1', '59_1', '11_1', '96_1', '12_1', '13_1', '14_1', '100_1', '99_1', '17_1', '40_1', '25_1', '31_1', '128_1', '30_1', '27_1', '34_1', '28_1', '29_1', '36_1', '37_1', '39_1', '173_2', '47_1', '122_1', '49_1', '17_2', '141_1', '56_1', '57_1', '58_1', '125_1', '126_1', '108_1', '60_1', '153_2', '66_1', '151_2', '68_1', '70_1', '71_1', '140_1', '87_1', '86_1', '139_1', '77_1', '81_1', '78_1', '79_1', '107_1', '80_1', '89_1', '189_2', '90_1', '188_2', '92_1', '93_1', '94_1', '109_1', '95_1', '103_1', '102_1', '106_1', '105_1', '104_1', '97_1', '131_1', '150_1', '151_1', '153_1', '158_1', '235_2', '154_1', '155_1', '1_2', '217_2', '10_2', '11_2', '15_2', '111_2', '22_2', '16_2', '98_2', '18_2', '27_2', '224_2', '222_2', '23_2', '212_2', '211_2', '24_2', '69_2', '68_2', '28_2', '39_2', '40_2', '29_2', '30_2', '33_2', '31_2', '32_2', '196_2', '200_2', '202_2', '34_2', '36_2', '37_2', '35_2', '42_2', '43_2', '44_2', '201_2', '45_2', '91_2', '215_2', '46_2', '93_2', '49_2', '85_2', '51_2', '208_2', '60_2', '56_2', '57_2', '166_2', '163_2', '167_2', '204_2', '171_2', '86_2', '58_2', '59_2', '94_2', '84_2', '80_2', '73_2', '74_2', '75_2', '76_2', '78_2', '95_2', '103_2', '81_2', '82_2', '160_2', '161_2', '169_2', '207_2', '159_2', '101_2', '145_2', '89_2', '157_2', '90_2', '158_2', '102_2', '108_2', '116_2', '118_2', '119_2', '130_2', '205_2', '131_2', '137_2', '139_2', '148_2', '150_2', '155_2', '156_2', '210_2', '209_2', '178_2', '190_2', '197_2', '198_2', '199_2', '213_2', '214_2', '228_2', '229_2']\n"
     ]
    }
   ],
   "source": [
    "cluster_sizes_dict = defaultdict(int)\n",
    "print (cluster_sizes_dict)\n",
    "seq_names = []\n",
    "for key, values in connections_dict.items():\n",
    "    if key not in seq_names:\n",
    "        seq_names.append(key)\n",
    "        cluster_sizes_dict[key] = 1 # 1 for the key itself in the cluster\n",
    "        for val in values:\n",
    "            if val not in seq_names:\n",
    "                seq_names.append(val)\n",
    "                print (key, val)\n",
    "                cluster_sizes_dict[key] += 1\n",
    "    elif key in seq_names: #key could have been in values previously\n",
    "        for val in values:\n",
    "            if val not in seq_names:\n",
    "                flag = 0\n",
    "                seq_names.append(val)\n",
    "                for key_in, values_in in connections_dict.items():\n",
    "                    for val_in in values_in:\n",
    "                        if key == val_in:\n",
    "                            cluster_sizes_dict[key_in] += 1\n",
    "                            flag = 1 # added this node to a cluster\n",
    "                            print ('hello')\n",
    "                            print ('Previous', key, val)\n",
    "                            break\n",
    "                    if flag == 1:\n",
    "                        break\n",
    "            #cluster_sizes.append(len(cluster_dict_copy[key]) + 1)\n",
    "print (len(cluster_sizes_dict))\n",
    "count = 0\n",
    "for key, val in cluster_sizes_dict.items():\n",
    "    count = count + val\n",
    "print (count)\n",
    "print (len(set(seq_names)))\n",
    "print (len(seq_names))\n",
    "print (cluster_sizes_dict)\n",
    "print (seq_names)"
   ]
  },
  {
   "cell_type": "code",
   "execution_count": 241,
   "metadata": {
    "collapsed": false,
    "hidden": true
   },
   "outputs": [
    {
     "name": "stdout",
     "output_type": "stream",
     "text": [
      "defaultdict(<class 'int'>, {'5_1': 2, '6_1': 2, '8_1': 2, '10_1': 3, '11_1': 2, '12_1': 5, '17_1': 2, '25_1': 4, '27_1': 2, '28_1': 2, '36_1': 2, '39_1': 2, '47_1': 2, '49_1': 3, '56_1': 2, '58_1': 4, '60_1': 2, '66_1': 2, '68_1': 2, '71_1': 5, '77_1': 6, '89_1': 2, '90_1': 2, '92_1': 2, '94_1': 8, '97_1': 2, '150_1': 2, '153_1': 3, '154_1': 2, '1_2': 2, '10_2': 2, '15_2': 5, '18_2': 4, '23_2': 3, '24_2': 5, '28_2': 3, '29_2': 1, '30_2': 8, '34_2': 4, '42_2': 4, '45_2': 3, '46_2': 2, '49_2': 2, '51_2': 4, '56_2': 17, '58_2': 2, '73_2': 2, '75_2': 2, '78_2': 3, '81_2': 2, '89_2': 2, '90_2': 2, '60_2': 1, '108_2': 2, '118_2': 2, '130_2': 3, '137_2': 4, '155_2': 2, '178_2': 2, '198_2': 2, '213_2': 2, '228_2': 2, '1_1': 1, '3_1': 1, '4_1': 1, '7_1': 1, '15_1': 1, '16_1': 1, '18_1': 1, '19_1': 1, '23_1': 1, '24_1': 1, '26_1': 1, '32_1': 1, '33_1': 1, '35_1': 1, '38_1': 1, '41_1': 1, '42_1': 1, '43_1': 1, '44_1': 1, '45_1': 1, '46_1': 1, '48_1': 1, '50_1': 1, '54_1': 1, '55_1': 1, '61_1': 1, '62_1': 1, '63_1': 1, '64_1': 1, '65_1': 1, '67_1': 1, '69_1': 1, '72_1': 1, '74_1': 1, '75_1': 1, '82_1': 1, '83_1': 1, '84_1': 1, '88_1': 1, '91_1': 1, '101_1': 1, '110_1': 1, '111_1': 1, '112_1': 1, '113_1': 1, '114_1': 1, '115_1': 1, '116_1': 1, '121_1': 1, '123_1': 1, '124_1': 1, '127_1': 1, '129_1': 1, '132_1': 1, '133_1': 1, '134_1': 1, '135_1': 1, '136_1': 1, '137_1': 1, '138_1': 1, '142_1': 1, '145_1': 1, '146_1': 1, '147_1': 1, '148_1': 1, '149_1': 1, '152_1': 1, '156_1': 1, '157_1': 1, '159_1': 1, '160_1': 1, '2_2': 1, '3_2': 1, '7_2': 1, '8_2': 1, '9_2': 1, '12_2': 1, '13_2': 1, '14_2': 1, '19_2': 1, '20_2': 1, '21_2': 1, '25_2': 1, '26_2': 1, '38_2': 1, '41_2': 1, '50_2': 1, '52_2': 1, '54_2': 1, '65_2': 1, '70_2': 1, '71_2': 1, '72_2': 1, '77_2': 1, '79_2': 1, '83_2': 1, '88_2': 1, '92_2': 1, '96_2': 1, '97_2': 1, '99_2': 1, '100_2': 1, '105_2': 1, '106_2': 1, '110_2': 1, '113_2': 1, '114_2': 1, '117_2': 1, '120_2': 1, '121_2': 1, '122_2': 1, '123_2': 1, '124_2': 1, '125_2': 1, '126_2': 1, '127_2': 1, '128_2': 1, '129_2': 1, '132_2': 1, '133_2': 1, '135_2': 1, '136_2': 1, '138_2': 1, '140_2': 1, '141_2': 1, '146_2': 1, '147_2': 1, '149_2': 1, '162_2': 1, '164_2': 1, '165_2': 1, '168_2': 1, '170_2': 1, '172_2': 1, '174_2': 1, '175_2': 1, '176_2': 1, '177_2': 1, '179_2': 1, '180_2': 1, '181_2': 1, '185_2': 1, '186_2': 1, '191_2': 1, '192_2': 1, '193_2': 1, '194_2': 1, '195_2': 1, '203_2': 1, '216_2': 1, '218_2': 1, '221_2': 1, '223_2': 1, '226_2': 1, '227_2': 1, '230_2': 1, '232_2': 1, '234_2': 1, '236_2': 1})\n"
     ]
    }
   ],
   "source": [
    "for index, record in enumerate(SeqIO.parse('positive_bacteriocin_less_than_30.fa', 'fasta')): \n",
    "    tok = record.description.split('|')[0]\n",
    "    tok = '_'.join(tok.split('.'))\n",
    "    if tok not in seq_names:\n",
    "        seq_names.append(tok)\n",
    "        cluster_sizes_dict[tok] = 1\n",
    "print (cluster_sizes_dict)"
   ]
  },
  {
   "cell_type": "code",
   "execution_count": 242,
   "metadata": {
    "collapsed": false,
    "hidden": true
   },
   "outputs": [
    {
     "name": "stdout",
     "output_type": "stream",
     "text": [
      "346\n"
     ]
    }
   ],
   "source": [
    "count = 0\n",
    "for key, val in cluster_sizes_dict.items():\n",
    "    count = count + val\n",
    "print (count)"
   ]
  },
  {
   "cell_type": "code",
   "execution_count": 273,
   "metadata": {
    "collapsed": true,
    "hidden": true
   },
   "outputs": [
    {
     "name": "stdout",
     "output_type": "stream",
     "text": [
      "5_1 120_1\n",
      "6_1 119_1\n",
      "8_1 9_1\n",
      "10_1 130_1\n",
      "10_1 59_1\n",
      "11_1 96_1\n",
      "12_1 13_1\n",
      "12_1 14_1\n",
      "13_1 14_1\n",
      "14_1 100_1\n",
      "14_1 99_1\n",
      "17_1 40_1\n",
      "25_1 31_1\n",
      "25_1 128_1\n",
      "25_1 30_1\n",
      "27_1 34_1\n",
      "28_1 29_1\n",
      "30_1 128_1\n",
      "30_1 31_1\n",
      "31_1 128_1\n",
      "36_1 37_1\n",
      "39_1 173_2\n",
      "47_1 122_1\n",
      "49_1 17_2\n",
      "49_1 141_1\n",
      "56_1 57_1\n",
      "58_1 125_1\n",
      "58_1 126_1\n",
      "58_1 108_1\n",
      "59_1 130_1\n",
      "60_1 153_2\n",
      "66_1 151_2\n",
      "68_1 70_1\n",
      "71_1 140_1\n",
      "71_1 87_1\n",
      "71_1 86_1\n",
      "71_1 139_1\n",
      "77_1 81_1\n",
      "77_1 78_1\n",
      "77_1 79_1\n",
      "77_1 107_1\n",
      "77_1 80_1\n",
      "78_1 81_1\n",
      "78_1 79_1\n",
      "78_1 107_1\n",
      "78_1 80_1\n",
      "79_1 81_1\n",
      "79_1 107_1\n",
      "79_1 80_1\n",
      "80_1 81_1\n",
      "81_1 107_1\n",
      "86_1 87_1\n",
      "86_1 140_1\n",
      "86_1 139_1\n",
      "87_1 140_1\n",
      "87_1 139_1\n",
      "89_1 189_2\n",
      "90_1 188_2\n",
      "92_1 93_1\n",
      "94_1 109_1\n",
      "94_1 95_1\n",
      "94_1 103_1\n",
      "94_1 102_1\n",
      "94_1 106_1\n",
      "94_1 105_1\n",
      "94_1 104_1\n",
      "95_1 109_1\n",
      "95_1 103_1\n",
      "95_1 102_1\n",
      "95_1 106_1\n",
      "95_1 105_1\n",
      "95_1 104_1\n",
      "97_1 131_1\n",
      "99_1 100_1\n",
      "102_1 106_1\n",
      "102_1 103_1\n",
      "102_1 105_1\n",
      "102_1 104_1\n",
      "102_1 109_1\n",
      "103_1 106_1\n",
      "103_1 105_1\n",
      "103_1 109_1\n",
      "103_1 104_1\n",
      "104_1 105_1\n",
      "104_1 106_1\n",
      "104_1 109_1\n",
      "105_1 106_1\n",
      "105_1 109_1\n",
      "106_1 109_1\n",
      "108_1 125_1\n",
      "108_1 126_1\n",
      "125_1 126_1\n",
      "139_1 140_1\n",
      "150_1 151_1\n",
      "153_1 158_1\n",
      "153_1 235_2\n",
      "154_1 155_1\n",
      "158_1 235_2\n",
      "1_2 217_2\n",
      "10_2 11_2\n",
      "15_2 111_2\n",
      "15_2 22_2\n",
      "15_2 16_2\n",
      "15_2 98_2\n",
      "16_2 111_2\n",
      "16_2 22_2\n",
      "16_2 98_2\n",
      "18_2 27_2\n",
      "18_2 224_2\n",
      "18_2 222_2\n",
      "22_2 111_2\n",
      "22_2 98_2\n",
      "23_2 212_2\n",
      "23_2 211_2\n",
      "24_2 69_2\n",
      "24_2 68_2\n",
      "27_2 224_2\n",
      "27_2 222_2\n",
      "28_2 39_2\n",
      "28_2 40_2\n",
      "29_2 40_2\n",
      "30_2 33_2\n",
      "30_2 31_2\n",
      "30_2 32_2\n",
      "30_2 196_2\n",
      "30_2 200_2\n",
      "30_2 202_2\n",
      "31_2 32_2\n",
      "31_2 33_2\n",
      "31_2 196_2\n",
      "31_2 200_2\n",
      "31_2 202_2\n",
      "32_2 33_2\n",
      "32_2 196_2\n",
      "32_2 200_2\n",
      "32_2 202_2\n",
      "33_2 196_2\n",
      "33_2 200_2\n",
      "33_2 202_2\n",
      "34_2 36_2\n",
      "34_2 37_2\n",
      "34_2 35_2\n",
      "35_2 37_2\n",
      "35_2 36_2\n",
      "36_2 37_2\n",
      "39_2 40_2\n",
      "42_2 43_2\n",
      "42_2 44_2\n",
      "42_2 201_2\n",
      "43_2 44_2\n",
      "45_2 91_2\n",
      "45_2 224_2\n",
      "45_2 222_2\n",
      "45_2 215_2\n",
      "46_2 93_2\n",
      "49_2 85_2\n",
      "51_2 208_2\n",
      "51_2 60_2\n",
      "56_2 57_2\n",
      "56_2 166_2\n",
      "56_2 163_2\n",
      "56_2 167_2\n",
      "56_2 204_2\n",
      "56_2 171_2\n",
      "56_2 212_2\n",
      "56_2 86_2\n",
      "56_2 211_2\n",
      "57_2 166_2\n",
      "57_2 163_2\n",
      "57_2 167_2\n",
      "57_2 204_2\n",
      "57_2 171_2\n",
      "57_2 212_2\n",
      "57_2 86_2\n",
      "57_2 211_2\n",
      "58_2 59_2\n",
      "60_2 208_2\n",
      "60_2 94_2\n",
      "68_2 69_2\n",
      "69_2 84_2\n",
      "69_2 80_2\n",
      "73_2 74_2\n",
      "75_2 76_2\n",
      "75_2 85_2\n",
      "76_2 85_2\n",
      "78_2 94_2\n",
      "78_2 95_2\n",
      "78_2 103_2\n",
      "80_2 84_2\n",
      "81_2 82_2\n",
      "86_2 160_2\n",
      "86_2 161_2\n",
      "86_2 169_2\n",
      "86_2 207_2\n",
      "86_2 159_2\n",
      "86_2 101_2\n",
      "86_2 212_2\n",
      "86_2 211_2\n",
      "86_2 163_2\n",
      "86_2 166_2\n",
      "86_2 145_2\n",
      "89_2 157_2\n",
      "90_2 158_2\n",
      "91_2 224_2\n",
      "91_2 222_2\n",
      "94_2 103_2\n",
      "94_2 95_2\n",
      "94_2 208_2\n",
      "94_2 102_2\n",
      "98_2 111_2\n",
      "101_2 160_2\n",
      "101_2 161_2\n",
      "101_2 159_2\n",
      "101_2 169_2\n",
      "108_2 116_2\n",
      "108_2 196_2\n",
      "108_2 200_2\n",
      "108_2 202_2\n",
      "118_2 119_2\n",
      "130_2 205_2\n",
      "130_2 131_2\n",
      "131_2 205_2\n",
      "137_2 139_2\n",
      "137_2 148_2\n",
      "139_2 148_2\n",
      "145_2 160_2\n",
      "145_2 161_2\n",
      "148_2 150_2\n",
      "155_2 156_2\n",
      "159_2 160_2\n",
      "159_2 161_2\n",
      "159_2 169_2\n",
      "160_2 161_2\n",
      "160_2 169_2\n",
      "160_2 207_2\n",
      "160_2 212_2\n",
      "160_2 211_2\n",
      "161_2 207_2\n",
      "161_2 169_2\n",
      "163_2 166_2\n",
      "163_2 167_2\n",
      "163_2 204_2\n",
      "163_2 171_2\n",
      "163_2 212_2\n",
      "163_2 211_2\n",
      "166_2 167_2\n",
      "166_2 204_2\n",
      "166_2 171_2\n",
      "166_2 212_2\n",
      "166_2 211_2\n",
      "167_2 204_2\n",
      "169_2 207_2\n",
      "169_2 212_2\n",
      "169_2 211_2\n",
      "171_2 210_2\n",
      "171_2 209_2\n",
      "178_2 190_2\n",
      "196_2 202_2\n",
      "196_2 200_2\n",
      "196_2 197_2\n",
      "197_2 202_2\n",
      "197_2 200_2\n",
      "198_2 199_2\n",
      "200_2 202_2\n",
      "209_2 210_2\n",
      "211_2 212_2\n",
      "213_2 214_2\n",
      "215_2 224_2\n",
      "215_2 222_2\n",
      "222_2 224_2\n",
      "228_2 229_2\n",
      "187\n",
      "271\n",
      "done\n"
     ]
    }
   ],
   "source": [
    "#print (cluster_dict)\n",
    "seq_names_connections = [] \n",
    "connections_list_tuples = []\n",
    "out_handle = open('connections_file_rectified', 'w')\n",
    "for key, value in connections_dict.items():\n",
    "    for target_node in value:\n",
    "        if (target_node, key) not in connections_list_tuples:\n",
    "            seq_names_connections.append(key)\n",
    "            seq_names_connections.append(target_node)\n",
    "            connections_list_tuples.append((key, target_node))\n",
    "            print (key, target_node)\n",
    "            out_handle.write('%s %s\\n' % (key, target_node))\n",
    "        \n",
    "out_handle.close()\n",
    "print (len(set(seq_names_connections)))\n",
    "print (len(connections_list_tuples))\n",
    "print ('done')       "
   ]
  },
  {
   "cell_type": "code",
   "execution_count": 271,
   "metadata": {
    "collapsed": false,
    "hidden": true
   },
   "outputs": [
    {
     "name": "stdout",
     "output_type": "stream",
     "text": [
      "346\n",
      "done\n"
     ]
    }
   ],
   "source": [
    "out_handle = open('connections_file_just_single', 'w')\n",
    "for index, record in enumerate(SeqIO.parse('positive_bacteriocin_less_than_30.fa', 'fasta')): \n",
    "    tok = record.description.split('|')[0]\n",
    "    tok = '_'.join(tok.split('.'))\n",
    "    if tok not in set(seq_names_connections):\n",
    "        seq_names_connections.append(tok)\n",
    "        out_handle.write(\"%s  \\n\" % (tok))\n",
    "out_handle.close()\n",
    "print (len(set(seq_names_connections)))\n",
    "print (\"done\")"
   ]
  },
  {
   "cell_type": "code",
   "execution_count": 66,
   "metadata": {
    "collapsed": true,
    "hidden": true
   },
   "outputs": [],
   "source": [
    "colors = ['AliceBlue', 'AntiqueWhite', 'Aqua', 'Aquamarine', 'Azure', 'Beige', 'Bisque', 'BlanchedAlmond', 'Blue', 'BlueViolet', 'Brown', 'BurlyWood', 'CadetBlue', 'Chartreuse', 'Chocolate', 'Coral', 'CornflowerBlue', 'Cornsilk', 'Crimson', 'Cyan', 'DarkBlue', 'DarkCyan', 'DarkGoldenRod', 'DarkGray', 'DarkGreen', 'DarkKhaki', 'DarkMagenta', 'DarkOliveGreen', 'DarkOrange', 'DarkOrchid', 'DarkRed', 'DarkSalmon', 'DarkSeaGreen', 'DarkSlateBlue', 'DarkSlateGray', 'DarkTurquoise', 'DarkViolet', 'DeepPink', 'DeepSkyBlue', 'DimGray', 'DodgerBlue', 'FireBrick', 'FloralWhite', 'ForestGreen', 'Fuchsia', 'Gainsboro', 'GhostWhite', 'Gold', 'GoldenRod', 'Gray', 'Green', 'GreenYellow', 'HoneyDew', 'HotPink', 'IndianRed', '', 'Indigo', '', 'Ivory', 'Khaki', 'Lavender', 'LavenderBlush', 'LawnGreen', 'LemonChiffon', 'LightBlue', 'LightCoral', 'LightCyan', 'LightGoldenRodYellow', 'LightGray', 'LightGreen', 'LightPink',\n",
    "         'LightSalmon', 'LightSeaGreen', 'LightSkyBlue', 'LightSlateGray', 'LightSteelBlue', 'LightYellow', 'Lime', 'LimeGreen', 'Linen', 'Magenta', 'Maroon', 'MediumAquaMarine', 'MediumBlue', 'MediumOrchid', 'MediumPurple', 'MediumSeaGreen', 'MediumSlateBlue', 'MediumSpringGreen', 'MediumTurquoise', 'MediumVioletRed', 'MidnightBlue', 'MintCream', 'MistyRose', 'Moccasin', 'NavajoWhite', 'Navy', 'OldLace', 'Olive', 'OliveDrab', 'Orange', 'OrangeRed', 'Orchid', 'PaleGoldenRod', 'PaleGreen', 'PaleTurquoise', 'PaleVioletRed', 'PapayaWhip', 'PeachPuff', 'Peru', 'Pink', 'Plum', 'PowderBlue', 'Purple', 'RebeccaPurple', 'Red', 'RosyBrown', 'RoyalBlue', 'SaddleBrown', 'Salmon', 'SandyBrown', 'SeaGreen', 'SeaShell', 'Sienna', 'Silver', 'SkyBlue', 'SlateBlue', 'SlateGray', 'Snow', 'SpringGreen', 'SteelBlue', 'Tan', 'Teal', 'Thistle', 'Tomato', 'Turquoise', 'Violet', 'Wheat', 'White', 'WhiteSmoke', 'Yellow', 'YellowGreen']"
   ]
  },
  {
   "cell_type": "code",
   "execution_count": 256,
   "metadata": {
    "collapsed": false,
    "hidden": true
   },
   "outputs": [
    {
     "data": {
      "text/plain": [
       "17"
      ]
     },
     "execution_count": 256,
     "metadata": {},
     "output_type": "execute_result"
    }
   ],
   "source": [
    "len(set(cluster_size_dict_list))\n",
    "max(cluster_size_dict_list)"
   ]
  },
  {
   "cell_type": "code",
   "execution_count": 268,
   "metadata": {
    "collapsed": false,
    "hidden": true
   },
   "outputs": [
    {
     "name": "stdout",
     "output_type": "stream",
     "text": [
      "defaultdict(<class 'int'>, {2: 37, 3: 8, 5: 4, 4: 7, 6: 1, 8: 2, 1: 161, 17: 1})\n"
     ]
    }
   ],
   "source": [
    "size_to_count_dict = defaultdict(int)\n",
    "for key, value in cluster_sizes_dict.items():\n",
    "    size_to_count_dict[value] += 1 \n",
    "print (size_to_count_dict)"
   ]
  },
  {
   "cell_type": "code",
   "execution_count": 292,
   "metadata": {
    "collapsed": false,
    "hidden": true
   },
   "outputs": [
    {
     "name": "stdout",
     "output_type": "stream",
     "text": [
      "346\n"
     ]
    }
   ],
   "source": [
    "size_to_count_dict_new = {2: 34, 3: 4, 5: 4, 4: 7, 6: 1, 7:1, 10:1, 8: 2, 1: 159, 20: 1}\n",
    "count  = 0\n",
    "for key, val in size_to_count_dict_new.items():\n",
    "    count = count + ((key) * val)\n",
    "print (count)"
   ]
  },
  {
   "cell_type": "code",
   "execution_count": null,
   "metadata": {
    "collapsed": true,
    "hidden": true
   },
   "outputs": [],
   "source": [
    "out_handle = open('cluster_size_count.csv' , 'w')\n"
   ]
  },
  {
   "cell_type": "code",
   "execution_count": 291,
   "metadata": {
    "collapsed": false,
    "hidden": true
   },
   "outputs": [
    {
     "data": {
      "image/png": "[encoded data removed]",
      "text/plain": [
       "<matplotlib.figure.Figure at 0x7f3a5c8bdc50>"
      ]
     },
     "metadata": {},
     "output_type": "display_data"
    }
   ],
   "source": [
    "names = list(size_to_count_dict_new.keys())\n",
    "values = list(size_to_count_dict_new.values())\n",
    "x = sorted(names)\n",
    "#print (names)\n",
    "#print (values)\n",
    "fig, axs = plt.subplots(1, 1, figsize=(12, 9))\n",
    "axs.bar(names, values, color = 'r')\n",
    "axs.set_ylabel('Count',fontsize = 28)\n",
    "axs.set_xlabel('Bacteriocin cluster sizes',fontsize = 28)\n",
    "axs.spines[\"top\"].set_visible(False)  \n",
    "axs.spines[\"right\"].set_visible(False)\n",
    "plt.xlim(1.0, )\n",
    "plt.xticks(x, ('1', '2', '3', '4', '5', '6', '7', '8', '10', '20'))\n",
    "plt.tick_params(size = 10)\n",
    "#axs[1].scatter(names, values)\n",
    "#axs[2].plot(names, values)\n",
    "#fig.suptitle('Categorical Plotting')\n",
    "ax.figure.savefig('bacteriocin_cluster_sizes.eps', format = 'eps', dpi = 1200, bbox_inches=\"tight\")\n",
    "ax.figure.savefig('bacteriocin_cluster_sizes.png', format = 'png', dpi = 1200, bbox_inches=\"tight\")\n",
    "ax.figure.savefig('bacteriocin_cluster_sizes.pdf', format = 'pdf', dpi = 1200, bbox_inches=\"tight\")"
   ]
  },
  {
   "cell_type": "code",
   "execution_count": 258,
   "metadata": {
    "collapsed": false,
    "hidden": true
   },
   "outputs": [
    {
     "data": {
      "image/png": "[encoded data removed]",
      "text/plain": [
       "<matplotlib.figure.Figure at 0x7f3a60385e48>"
      ]
     },
     "metadata": {},
     "output_type": "display_data"
    }
   ],
   "source": [
    "cluster_size_dict_list = [value for key, value in cluster_sizes_dict.items()]\n",
    "\n",
    "plt.rc('ytick',labelsize=24)\n",
    "plt.rc('xtick',labelsize=24)\n",
    "\n",
    "_, ax = plt.subplots(1, 1, figsize=(12,9))\n",
    "#fig.set_size_inches(12, 9)\n",
    "ax.spines[\"top\"].set_visible(False)  \n",
    "ax.spines[\"right\"].set_visible(False)\n",
    "ax.hist(cluster_size_dict_list, bins=np.arange(min(cluster_size_dict_list),max(cluster_size_dict_list)), \n",
    "                                               align='left', \n",
    "                                               color='r', edgecolor = 'black')\n",
    "# plt.title(\"%i Negative bacteriocin sequences\\nLengths %i to %i\" \\\n",
    "#             % (len(sizes),min(sizes),max(sizes)))\n",
    "ax.set_ylabel('Count',fontsize = 28)\n",
    "ax.set_xlabel('Bacteriocin cluster sizes',fontsize = 28)\n",
    "plt.xlim(1.0, )\n",
    "plt.tick_params(size = 10)\n",
    "#plt.xlabel(\"Sequence length\")\n",
    "#plt.ylabel(\"Count\")\n",
    "# ax.figure.savefig('bacteriocin_cluster_sizes.eps', format = 'eps', dpi = 1200, bbox_inches=\"tight\")\n",
    "# ax.figure.savefig('bacteriocin_cluster_sizes.png', format = 'png', dpi = 1200, bbox_inches=\"tight\")\n",
    "# ax.figure.savefig('bacteriocin_cluster_sizes.pdf', format = 'pdf', dpi = 1200, bbox_inches=\"tight\")\n",
    "#plt.show()"
   ]
  },
  {
   "cell_type": "code",
   "execution_count": null,
   "metadata": {
    "collapsed": true,
    "hidden": true
   },
   "outputs": [],
   "source": []
  }
 ],
 "metadata": {
  "kernelspec": {
   "display_name": "Python 3",
   "language": "python",
   "name": "python3"
  },
  "language_info": {
   "codemirror_mode": {
    "name": "ipython",
    "version": 3
   },
   "file_extension": ".py",
   "mimetype": "text/x-python",
   "name": "python",
   "nbconvert_exporter": "python",
   "pygments_lexer": "ipython3",
   "version": "3.6.0"
  }
 },
 "nbformat": 4,
 "nbformat_minor": 2
}
